{
 "cells": [
  {
   "cell_type": "code",
   "execution_count": 1,
   "id": "acf14326-99ad-4ef7-9c01-89d6ffb80ccf",
   "metadata": {},
   "outputs": [
    {
     "name": "stderr",
     "output_type": "stream",
     "text": [
      "2022-12-04 14:13:40.678031: I tensorflow/core/platform/cpu_feature_guard.cc:193] This TensorFlow binary is optimized with oneAPI Deep Neural Network Library (oneDNN) to use the following CPU instructions in performance-critical operations:  AVX2 FMA\n",
      "To enable them in other operations, rebuild TensorFlow with the appropriate compiler flags.\n",
      "2022-12-04 14:14:18.660880: W tensorflow/stream_executor/platform/default/dso_loader.cc:64] Could not load dynamic library 'libcudart.so.11.0'; dlerror: libcudart.so.11.0: cannot open shared object file: No such file or directory\n",
      "2022-12-04 14:14:18.660956: I tensorflow/stream_executor/cuda/cudart_stub.cc:29] Ignore above cudart dlerror if you do not have a GPU set up on your machine.\n",
      "2022-12-04 14:14:22.489484: E tensorflow/stream_executor/cuda/cuda_blas.cc:2981] Unable to register cuBLAS factory: Attempting to register factory for plugin cuBLAS when one has already been registered\n",
      "2022-12-04 14:15:40.171320: W tensorflow/stream_executor/platform/default/dso_loader.cc:64] Could not load dynamic library 'libnvinfer.so.7'; dlerror: libnvinfer.so.7: cannot open shared object file: No such file or directory\n",
      "2022-12-04 14:15:40.171472: W tensorflow/stream_executor/platform/default/dso_loader.cc:64] Could not load dynamic library 'libnvinfer_plugin.so.7'; dlerror: libnvinfer_plugin.so.7: cannot open shared object file: No such file or directory\n",
      "2022-12-04 14:15:40.171482: W tensorflow/compiler/tf2tensorrt/utils/py_utils.cc:38] TF-TRT Warning: Cannot dlopen some TensorRT libraries. If you would like to use Nvidia GPU with TensorRT, please make sure the missing libraries mentioned above are installed properly.\n"
     ]
    }
   ],
   "source": [
    "import tensorflow as tf"
   ]
  },
  {
   "cell_type": "code",
   "execution_count": 2,
   "id": "7b42b0fd-8aff-4b05-aff4-bf2f3dcdba3b",
   "metadata": {},
   "outputs": [
    {
     "data": {
      "text/plain": [
       "'2.10.0'"
      ]
     },
     "execution_count": 2,
     "metadata": {},
     "output_type": "execute_result"
    }
   ],
   "source": [
    "tf.__version__"
   ]
  },
  {
   "cell_type": "markdown",
   "id": "467f2785-bbb4-4a48-b563-be10cd35f765",
   "metadata": {},
   "source": [
    "## Load data"
   ]
  },
  {
   "cell_type": "code",
   "execution_count": 4,
   "id": "eb830143-03c5-4458-b15a-6f5928516a6d",
   "metadata": {},
   "outputs": [
    {
     "data": {
      "text/html": [
       "<div>\n",
       "<style scoped>\n",
       "    .dataframe tbody tr th:only-of-type {\n",
       "        vertical-align: middle;\n",
       "    }\n",
       "\n",
       "    .dataframe tbody tr th {\n",
       "        vertical-align: top;\n",
       "    }\n",
       "\n",
       "    .dataframe thead th {\n",
       "        text-align: right;\n",
       "    }\n",
       "</style>\n",
       "<table border=\"1\" class=\"dataframe\">\n",
       "  <thead>\n",
       "    <tr style=\"text-align: right;\">\n",
       "      <th></th>\n",
       "      <th>leftWES</th>\n",
       "      <th>leftESH</th>\n",
       "      <th>leftSHK</th>\n",
       "      <th>leftHKA</th>\n",
       "      <th>rightWES</th>\n",
       "      <th>rightESH</th>\n",
       "      <th>rightSHK</th>\n",
       "      <th>rightHKA</th>\n",
       "    </tr>\n",
       "  </thead>\n",
       "  <tbody>\n",
       "    <tr>\n",
       "      <th>0</th>\n",
       "      <td>165.164419</td>\n",
       "      <td>15.643895</td>\n",
       "      <td>172.122754</td>\n",
       "      <td>177.580663</td>\n",
       "      <td>159.439589</td>\n",
       "      <td>11.808326</td>\n",
       "      <td>157.260863</td>\n",
       "      <td>148.319193</td>\n",
       "    </tr>\n",
       "    <tr>\n",
       "      <th>1</th>\n",
       "      <td>160.128458</td>\n",
       "      <td>18.462811</td>\n",
       "      <td>171.070800</td>\n",
       "      <td>178.967895</td>\n",
       "      <td>155.117873</td>\n",
       "      <td>12.662811</td>\n",
       "      <td>145.145763</td>\n",
       "      <td>129.251096</td>\n",
       "    </tr>\n",
       "    <tr>\n",
       "      <th>2</th>\n",
       "      <td>161.984016</td>\n",
       "      <td>17.984141</td>\n",
       "      <td>171.266872</td>\n",
       "      <td>179.457232</td>\n",
       "      <td>152.511683</td>\n",
       "      <td>13.806346</td>\n",
       "      <td>136.029230</td>\n",
       "      <td>120.040313</td>\n",
       "    </tr>\n",
       "    <tr>\n",
       "      <th>3</th>\n",
       "      <td>161.309173</td>\n",
       "      <td>18.486387</td>\n",
       "      <td>171.299619</td>\n",
       "      <td>179.986677</td>\n",
       "      <td>150.681952</td>\n",
       "      <td>13.769877</td>\n",
       "      <td>119.618289</td>\n",
       "      <td>101.752941</td>\n",
       "    </tr>\n",
       "    <tr>\n",
       "      <th>4</th>\n",
       "      <td>161.901137</td>\n",
       "      <td>18.307466</td>\n",
       "      <td>171.113986</td>\n",
       "      <td>179.925532</td>\n",
       "      <td>148.932263</td>\n",
       "      <td>12.784818</td>\n",
       "      <td>103.436826</td>\n",
       "      <td>82.631432</td>\n",
       "    </tr>\n",
       "    <tr>\n",
       "      <th>5</th>\n",
       "      <td>161.949413</td>\n",
       "      <td>18.652468</td>\n",
       "      <td>170.396862</td>\n",
       "      <td>179.539319</td>\n",
       "      <td>148.684361</td>\n",
       "      <td>13.499778</td>\n",
       "      <td>105.981633</td>\n",
       "      <td>84.855361</td>\n",
       "    </tr>\n",
       "    <tr>\n",
       "      <th>6</th>\n",
       "      <td>164.090353</td>\n",
       "      <td>16.332102</td>\n",
       "      <td>171.872652</td>\n",
       "      <td>179.404160</td>\n",
       "      <td>143.952563</td>\n",
       "      <td>15.576404</td>\n",
       "      <td>85.912603</td>\n",
       "      <td>65.864531</td>\n",
       "    </tr>\n",
       "    <tr>\n",
       "      <th>7</th>\n",
       "      <td>165.932150</td>\n",
       "      <td>15.541703</td>\n",
       "      <td>171.885795</td>\n",
       "      <td>178.662691</td>\n",
       "      <td>148.070958</td>\n",
       "      <td>13.407853</td>\n",
       "      <td>86.078583</td>\n",
       "      <td>59.377491</td>\n",
       "    </tr>\n",
       "    <tr>\n",
       "      <th>8</th>\n",
       "      <td>161.976999</td>\n",
       "      <td>16.802934</td>\n",
       "      <td>170.803614</td>\n",
       "      <td>178.580115</td>\n",
       "      <td>152.112193</td>\n",
       "      <td>10.265409</td>\n",
       "      <td>80.288647</td>\n",
       "      <td>52.791914</td>\n",
       "    </tr>\n",
       "    <tr>\n",
       "      <th>9</th>\n",
       "      <td>164.271508</td>\n",
       "      <td>15.906116</td>\n",
       "      <td>170.888628</td>\n",
       "      <td>179.318270</td>\n",
       "      <td>157.327750</td>\n",
       "      <td>9.256602</td>\n",
       "      <td>83.081094</td>\n",
       "      <td>54.027581</td>\n",
       "    </tr>\n",
       "    <tr>\n",
       "      <th>10</th>\n",
       "      <td>164.558146</td>\n",
       "      <td>15.987818</td>\n",
       "      <td>170.287411</td>\n",
       "      <td>179.567287</td>\n",
       "      <td>159.906552</td>\n",
       "      <td>8.131258</td>\n",
       "      <td>85.826513</td>\n",
       "      <td>56.802490</td>\n",
       "    </tr>\n",
       "    <tr>\n",
       "      <th>11</th>\n",
       "      <td>162.712609</td>\n",
       "      <td>17.262143</td>\n",
       "      <td>168.320042</td>\n",
       "      <td>179.589377</td>\n",
       "      <td>163.501031</td>\n",
       "      <td>6.370532</td>\n",
       "      <td>92.465729</td>\n",
       "      <td>62.748790</td>\n",
       "    </tr>\n",
       "    <tr>\n",
       "      <th>12</th>\n",
       "      <td>162.510010</td>\n",
       "      <td>16.753542</td>\n",
       "      <td>169.278670</td>\n",
       "      <td>179.736176</td>\n",
       "      <td>168.121021</td>\n",
       "      <td>5.562638</td>\n",
       "      <td>95.567844</td>\n",
       "      <td>64.983685</td>\n",
       "    </tr>\n",
       "    <tr>\n",
       "      <th>13</th>\n",
       "      <td>163.274339</td>\n",
       "      <td>16.354180</td>\n",
       "      <td>170.267540</td>\n",
       "      <td>179.405995</td>\n",
       "      <td>171.941659</td>\n",
       "      <td>4.671625</td>\n",
       "      <td>100.939184</td>\n",
       "      <td>69.526756</td>\n",
       "    </tr>\n",
       "    <tr>\n",
       "      <th>14</th>\n",
       "      <td>162.447134</td>\n",
       "      <td>16.721535</td>\n",
       "      <td>170.420967</td>\n",
       "      <td>179.518615</td>\n",
       "      <td>175.379028</td>\n",
       "      <td>4.071739</td>\n",
       "      <td>96.278326</td>\n",
       "      <td>63.486086</td>\n",
       "    </tr>\n",
       "    <tr>\n",
       "      <th>15</th>\n",
       "      <td>162.144661</td>\n",
       "      <td>17.374562</td>\n",
       "      <td>170.301378</td>\n",
       "      <td>179.600330</td>\n",
       "      <td>176.967148</td>\n",
       "      <td>4.168363</td>\n",
       "      <td>95.497799</td>\n",
       "      <td>62.116186</td>\n",
       "    </tr>\n",
       "    <tr>\n",
       "      <th>16</th>\n",
       "      <td>161.405466</td>\n",
       "      <td>17.700010</td>\n",
       "      <td>170.394820</td>\n",
       "      <td>179.553314</td>\n",
       "      <td>178.139271</td>\n",
       "      <td>4.501055</td>\n",
       "      <td>92.652907</td>\n",
       "      <td>59.216669</td>\n",
       "    </tr>\n",
       "    <tr>\n",
       "      <th>17</th>\n",
       "      <td>160.190646</td>\n",
       "      <td>18.983673</td>\n",
       "      <td>170.329835</td>\n",
       "      <td>179.150548</td>\n",
       "      <td>179.396274</td>\n",
       "      <td>3.952710</td>\n",
       "      <td>94.220878</td>\n",
       "      <td>60.778910</td>\n",
       "    </tr>\n",
       "    <tr>\n",
       "      <th>18</th>\n",
       "      <td>160.196324</td>\n",
       "      <td>19.381260</td>\n",
       "      <td>170.656395</td>\n",
       "      <td>179.052467</td>\n",
       "      <td>179.681095</td>\n",
       "      <td>3.862266</td>\n",
       "      <td>92.684399</td>\n",
       "      <td>60.810210</td>\n",
       "    </tr>\n",
       "    <tr>\n",
       "      <th>19</th>\n",
       "      <td>160.441048</td>\n",
       "      <td>19.098829</td>\n",
       "      <td>170.963379</td>\n",
       "      <td>178.939964</td>\n",
       "      <td>179.717727</td>\n",
       "      <td>4.100492</td>\n",
       "      <td>90.190558</td>\n",
       "      <td>59.261753</td>\n",
       "    </tr>\n",
       "    <tr>\n",
       "      <th>20</th>\n",
       "      <td>161.651993</td>\n",
       "      <td>18.114791</td>\n",
       "      <td>172.071713</td>\n",
       "      <td>178.195096</td>\n",
       "      <td>179.392490</td>\n",
       "      <td>4.346258</td>\n",
       "      <td>89.332755</td>\n",
       "      <td>58.108283</td>\n",
       "    </tr>\n",
       "    <tr>\n",
       "      <th>21</th>\n",
       "      <td>162.464275</td>\n",
       "      <td>17.875000</td>\n",
       "      <td>171.737088</td>\n",
       "      <td>178.395720</td>\n",
       "      <td>178.975980</td>\n",
       "      <td>4.057397</td>\n",
       "      <td>87.087684</td>\n",
       "      <td>56.371874</td>\n",
       "    </tr>\n",
       "    <tr>\n",
       "      <th>22</th>\n",
       "      <td>163.264948</td>\n",
       "      <td>17.570764</td>\n",
       "      <td>171.216252</td>\n",
       "      <td>178.272602</td>\n",
       "      <td>179.258089</td>\n",
       "      <td>3.854191</td>\n",
       "      <td>88.367992</td>\n",
       "      <td>56.984673</td>\n",
       "    </tr>\n",
       "    <tr>\n",
       "      <th>23</th>\n",
       "      <td>164.584504</td>\n",
       "      <td>16.669427</td>\n",
       "      <td>171.465431</td>\n",
       "      <td>177.825158</td>\n",
       "      <td>179.375695</td>\n",
       "      <td>4.070815</td>\n",
       "      <td>87.641044</td>\n",
       "      <td>56.318084</td>\n",
       "    </tr>\n",
       "    <tr>\n",
       "      <th>24</th>\n",
       "      <td>165.595103</td>\n",
       "      <td>16.167101</td>\n",
       "      <td>170.843834</td>\n",
       "      <td>178.137270</td>\n",
       "      <td>179.143586</td>\n",
       "      <td>4.960630</td>\n",
       "      <td>86.469961</td>\n",
       "      <td>55.030857</td>\n",
       "    </tr>\n",
       "    <tr>\n",
       "      <th>25</th>\n",
       "      <td>164.987891</td>\n",
       "      <td>16.168153</td>\n",
       "      <td>170.605249</td>\n",
       "      <td>177.916949</td>\n",
       "      <td>178.657412</td>\n",
       "      <td>5.586082</td>\n",
       "      <td>84.599659</td>\n",
       "      <td>54.183617</td>\n",
       "    </tr>\n",
       "    <tr>\n",
       "      <th>26</th>\n",
       "      <td>163.967989</td>\n",
       "      <td>16.807095</td>\n",
       "      <td>170.375686</td>\n",
       "      <td>177.830243</td>\n",
       "      <td>179.280929</td>\n",
       "      <td>6.696049</td>\n",
       "      <td>78.979440</td>\n",
       "      <td>50.595152</td>\n",
       "    </tr>\n",
       "    <tr>\n",
       "      <th>27</th>\n",
       "      <td>163.424428</td>\n",
       "      <td>16.800636</td>\n",
       "      <td>170.612092</td>\n",
       "      <td>177.596564</td>\n",
       "      <td>178.623566</td>\n",
       "      <td>6.667698</td>\n",
       "      <td>73.752449</td>\n",
       "      <td>47.151021</td>\n",
       "    </tr>\n",
       "    <tr>\n",
       "      <th>28</th>\n",
       "      <td>163.092198</td>\n",
       "      <td>16.658888</td>\n",
       "      <td>171.207585</td>\n",
       "      <td>177.403370</td>\n",
       "      <td>179.763637</td>\n",
       "      <td>7.777620</td>\n",
       "      <td>72.170921</td>\n",
       "      <td>46.934040</td>\n",
       "    </tr>\n",
       "    <tr>\n",
       "      <th>29</th>\n",
       "      <td>162.992287</td>\n",
       "      <td>17.657288</td>\n",
       "      <td>169.705761</td>\n",
       "      <td>178.286732</td>\n",
       "      <td>179.101353</td>\n",
       "      <td>8.114298</td>\n",
       "      <td>72.660480</td>\n",
       "      <td>45.434352</td>\n",
       "    </tr>\n",
       "  </tbody>\n",
       "</table>\n",
       "</div>"
      ],
      "text/plain": [
       "       leftWES    leftESH     leftSHK     leftHKA    rightWES   rightESH  \\\n",
       "0   165.164419  15.643895  172.122754  177.580663  159.439589  11.808326   \n",
       "1   160.128458  18.462811  171.070800  178.967895  155.117873  12.662811   \n",
       "2   161.984016  17.984141  171.266872  179.457232  152.511683  13.806346   \n",
       "3   161.309173  18.486387  171.299619  179.986677  150.681952  13.769877   \n",
       "4   161.901137  18.307466  171.113986  179.925532  148.932263  12.784818   \n",
       "5   161.949413  18.652468  170.396862  179.539319  148.684361  13.499778   \n",
       "6   164.090353  16.332102  171.872652  179.404160  143.952563  15.576404   \n",
       "7   165.932150  15.541703  171.885795  178.662691  148.070958  13.407853   \n",
       "8   161.976999  16.802934  170.803614  178.580115  152.112193  10.265409   \n",
       "9   164.271508  15.906116  170.888628  179.318270  157.327750   9.256602   \n",
       "10  164.558146  15.987818  170.287411  179.567287  159.906552   8.131258   \n",
       "11  162.712609  17.262143  168.320042  179.589377  163.501031   6.370532   \n",
       "12  162.510010  16.753542  169.278670  179.736176  168.121021   5.562638   \n",
       "13  163.274339  16.354180  170.267540  179.405995  171.941659   4.671625   \n",
       "14  162.447134  16.721535  170.420967  179.518615  175.379028   4.071739   \n",
       "15  162.144661  17.374562  170.301378  179.600330  176.967148   4.168363   \n",
       "16  161.405466  17.700010  170.394820  179.553314  178.139271   4.501055   \n",
       "17  160.190646  18.983673  170.329835  179.150548  179.396274   3.952710   \n",
       "18  160.196324  19.381260  170.656395  179.052467  179.681095   3.862266   \n",
       "19  160.441048  19.098829  170.963379  178.939964  179.717727   4.100492   \n",
       "20  161.651993  18.114791  172.071713  178.195096  179.392490   4.346258   \n",
       "21  162.464275  17.875000  171.737088  178.395720  178.975980   4.057397   \n",
       "22  163.264948  17.570764  171.216252  178.272602  179.258089   3.854191   \n",
       "23  164.584504  16.669427  171.465431  177.825158  179.375695   4.070815   \n",
       "24  165.595103  16.167101  170.843834  178.137270  179.143586   4.960630   \n",
       "25  164.987891  16.168153  170.605249  177.916949  178.657412   5.586082   \n",
       "26  163.967989  16.807095  170.375686  177.830243  179.280929   6.696049   \n",
       "27  163.424428  16.800636  170.612092  177.596564  178.623566   6.667698   \n",
       "28  163.092198  16.658888  171.207585  177.403370  179.763637   7.777620   \n",
       "29  162.992287  17.657288  169.705761  178.286732  179.101353   8.114298   \n",
       "\n",
       "      rightSHK    rightHKA  \n",
       "0   157.260863  148.319193  \n",
       "1   145.145763  129.251096  \n",
       "2   136.029230  120.040313  \n",
       "3   119.618289  101.752941  \n",
       "4   103.436826   82.631432  \n",
       "5   105.981633   84.855361  \n",
       "6    85.912603   65.864531  \n",
       "7    86.078583   59.377491  \n",
       "8    80.288647   52.791914  \n",
       "9    83.081094   54.027581  \n",
       "10   85.826513   56.802490  \n",
       "11   92.465729   62.748790  \n",
       "12   95.567844   64.983685  \n",
       "13  100.939184   69.526756  \n",
       "14   96.278326   63.486086  \n",
       "15   95.497799   62.116186  \n",
       "16   92.652907   59.216669  \n",
       "17   94.220878   60.778910  \n",
       "18   92.684399   60.810210  \n",
       "19   90.190558   59.261753  \n",
       "20   89.332755   58.108283  \n",
       "21   87.087684   56.371874  \n",
       "22   88.367992   56.984673  \n",
       "23   87.641044   56.318084  \n",
       "24   86.469961   55.030857  \n",
       "25   84.599659   54.183617  \n",
       "26   78.979440   50.595152  \n",
       "27   73.752449   47.151021  \n",
       "28   72.170921   46.934040  \n",
       "29   72.660480   45.434352  "
      ]
     },
     "execution_count": 4,
     "metadata": {},
     "output_type": "execute_result"
    }
   ],
   "source": [
    "import pandas as pd\n",
    "data =  pd.read_csv('Yoga_data_large_labeled/'+'Vriksh'+'/'+'0.0.csv')\n",
    "data['yoga'][0]\n",
    "data.drop('yoga',axis=1)"
   ]
  },
  {
   "cell_type": "code",
   "execution_count": 91,
   "id": "45481f75-0630-4847-9450-c3851dbfc242",
   "metadata": {},
   "outputs": [],
   "source": [
    "import pandas as pd\n",
    "import os\n",
    "#{'Bhuj': 1 ,'Padam':2,  'Shav':3 , 'Tada':4 , 'Trik':5  ,'Vriksh':6}\n",
    "\n",
    "# print(dir_list)\n",
    "x = []\n",
    "y = []\n",
    "dir = ['Bhuj','Padam','Shav','Tada','Trik','Vriksh']\n",
    "for i in dir:\n",
    "    dir_list = os.listdir('Yoga_data_large_labeled/'+i)\n",
    "    if '.ipynb_checkpoints' in dir_list:\n",
    "        dir_list.remove('.ipynb_checkpoints')\n",
    "    for j in dir_list:\n",
    "        data =  pd.read_csv('Yoga_data_large_labeled/'+i+'/'+j)\n",
    "        y.append(data['yoga'][0])\n",
    "        data = data.drop('yoga',axis=1)\n",
    "        x.append(data.values)"
   ]
  },
  {
   "cell_type": "code",
   "execution_count": 92,
   "id": "53b5240c-ad89-4d48-a18b-8d3458bf920e",
   "metadata": {},
   "outputs": [
    {
     "data": {
      "text/plain": [
       "3348"
      ]
     },
     "execution_count": 92,
     "metadata": {},
     "output_type": "execute_result"
    }
   ],
   "source": [
    "len(x)"
   ]
  },
  {
   "cell_type": "code",
   "execution_count": 93,
   "id": "89fed195-72c4-4892-87e0-1d5a7e957015",
   "metadata": {},
   "outputs": [
    {
     "data": {
      "text/plain": [
       "3348"
      ]
     },
     "execution_count": 93,
     "metadata": {},
     "output_type": "execute_result"
    }
   ],
   "source": [
    "len(y)"
   ]
  },
  {
   "cell_type": "code",
   "execution_count": 94,
   "id": "e75b414b-1ac5-464c-a4de-b289c71ba07b",
   "metadata": {},
   "outputs": [],
   "source": [
    "from sklearn.model_selection import train_test_split\n",
    "X_train, X_test, y_train, y_test = train_test_split(x, y, test_size=0.20, random_state=42)"
   ]
  },
  {
   "cell_type": "code",
   "execution_count": 95,
   "id": "6bfcb0c2-e009-449f-ae26-46bea0222178",
   "metadata": {},
   "outputs": [
    {
     "data": {
      "text/plain": [
       "2678"
      ]
     },
     "execution_count": 95,
     "metadata": {},
     "output_type": "execute_result"
    }
   ],
   "source": [
    "len(X_train)"
   ]
  },
  {
   "cell_type": "code",
   "execution_count": 96,
   "id": "5b7d5a45-9720-4692-b976-58e49491856b",
   "metadata": {},
   "outputs": [
    {
     "data": {
      "text/plain": [
       "670"
      ]
     },
     "execution_count": 96,
     "metadata": {},
     "output_type": "execute_result"
    }
   ],
   "source": [
    "len(X_test)"
   ]
  },
  {
   "cell_type": "code",
   "execution_count": 97,
   "id": "17490739-916e-4bfb-835d-b54efb3779a9",
   "metadata": {},
   "outputs": [
    {
     "data": {
      "text/plain": [
       "2678"
      ]
     },
     "execution_count": 97,
     "metadata": {},
     "output_type": "execute_result"
    }
   ],
   "source": [
    "len(y_train)"
   ]
  },
  {
   "cell_type": "code",
   "execution_count": 98,
   "id": "259aa986-5038-4436-9088-9f27e415d300",
   "metadata": {},
   "outputs": [
    {
     "data": {
      "text/plain": [
       "670"
      ]
     },
     "execution_count": 98,
     "metadata": {},
     "output_type": "execute_result"
    }
   ],
   "source": [
    "len(y_test)"
   ]
  },
  {
   "cell_type": "code",
   "execution_count": 99,
   "id": "6420b095-0fa1-43e4-afa3-180c82f1bfa9",
   "metadata": {},
   "outputs": [],
   "source": [
    "X_train  = tf.convert_to_tensor(X_train)"
   ]
  },
  {
   "cell_type": "code",
   "execution_count": 100,
   "id": "503f1236-88c4-4a2f-b4aa-180cccd3036f",
   "metadata": {},
   "outputs": [
    {
     "data": {
      "text/plain": [
       "TensorShape([2678, 30, 8])"
      ]
     },
     "execution_count": 100,
     "metadata": {},
     "output_type": "execute_result"
    }
   ],
   "source": [
    "X_train.shape"
   ]
  },
  {
   "cell_type": "code",
   "execution_count": 101,
   "id": "fe804336-3baf-43aa-bef0-74a3ddb8a210",
   "metadata": {},
   "outputs": [],
   "source": [
    "X_test  = tf.convert_to_tensor(X_test)"
   ]
  },
  {
   "cell_type": "code",
   "execution_count": 102,
   "id": "74bc94f2-c470-498f-92fb-60753bd30e68",
   "metadata": {},
   "outputs": [
    {
     "data": {
      "text/plain": [
       "TensorShape([670, 30, 8])"
      ]
     },
     "execution_count": 102,
     "metadata": {},
     "output_type": "execute_result"
    }
   ],
   "source": [
    "X_test.shape"
   ]
  },
  {
   "cell_type": "code",
   "execution_count": 103,
   "id": "bd0cd416-e102-40ea-b9c3-0900e2b972d8",
   "metadata": {},
   "outputs": [],
   "source": [
    "y_train  = tf.convert_to_tensor(y_train)"
   ]
  },
  {
   "cell_type": "code",
   "execution_count": 104,
   "id": "f97aac4f-313c-4c3e-88bf-fd2aa5cc6076",
   "metadata": {},
   "outputs": [
    {
     "data": {
      "text/plain": [
       "TensorShape([2678])"
      ]
     },
     "execution_count": 104,
     "metadata": {},
     "output_type": "execute_result"
    }
   ],
   "source": [
    "y_train.shape"
   ]
  },
  {
   "cell_type": "code",
   "execution_count": 105,
   "id": "9a095403-f810-4c1a-8f97-536ce7335a6e",
   "metadata": {},
   "outputs": [],
   "source": [
    "y_test = tf.convert_to_tensor(y_test)"
   ]
  },
  {
   "cell_type": "code",
   "execution_count": 106,
   "id": "0a7ca0bf-a7a0-4c12-8c92-18a8fc69ddd3",
   "metadata": {},
   "outputs": [
    {
     "data": {
      "text/plain": [
       "TensorShape([670])"
      ]
     },
     "execution_count": 106,
     "metadata": {},
     "output_type": "execute_result"
    }
   ],
   "source": [
    "y_test.shape"
   ]
  },
  {
   "cell_type": "markdown",
   "id": "dc0fc4d3-8eff-4054-8761-bdf599bd6884",
   "metadata": {},
   "source": [
    "# data augmentation"
   ]
  },
  {
   "cell_type": "code",
   "execution_count": 107,
   "id": "80864123-6803-4b6c-a10d-d7bec9866e25",
   "metadata": {},
   "outputs": [
    {
     "data": {
      "text/plain": [
       "TensorShape([8034, 30, 8])"
      ]
     },
     "execution_count": 107,
     "metadata": {},
     "output_type": "execute_result"
    }
   ],
   "source": [
    "import random\n",
    "random.randint(0,5)\n",
    "\n",
    "def add_rand(angle):\n",
    "    angle = angle + random.randint(0,5)\n",
    "    return angle\n",
    "def sub_rand(angle):\n",
    "    angle = angle - random.randint(0,5)\n",
    "    return abs(angle)\n",
    "\n",
    "X_train_new = X_train\n",
    "X_train_new = tf.concat([X_train_new,tf.map_fn(sub_rand, X_train)], 0)\n",
    "X_train_new = tf.concat([X_train_new,tf.map_fn(add_rand, X_train)], 0)\n",
    "\n",
    "X_train_new.shape"
   ]
  },
  {
   "cell_type": "code",
   "execution_count": 108,
   "id": "a3e08d18-74b6-420b-8a98-4c0813a0ac62",
   "metadata": {},
   "outputs": [
    {
     "data": {
      "text/plain": [
       "TensorShape([8034])"
      ]
     },
     "execution_count": 108,
     "metadata": {},
     "output_type": "execute_result"
    }
   ],
   "source": [
    "y_train_new  = y_train\n",
    "y_train_new = tf.concat([y_train_new,y_train], 0)\n",
    "y_train_new = tf.concat([y_train_new,y_train], 0)\n",
    "y_train_new.shape"
   ]
  },
  {
   "cell_type": "code",
   "execution_count": 109,
   "id": "7b003e9a-e4ae-4dd4-836d-86ec2e84b21e",
   "metadata": {},
   "outputs": [],
   "source": [
    "def preprocess(X_train,Y_train,X_test,Y_test): \n",
    "    \n",
    "    #encode the output\n",
    "    encoder = LabelEncoder()\n",
    "    encoder.fit(Y_train)\n",
    "    Y_train = encoder.transform(Y_train)\n",
    "    Y_train = np_utils.to_categorical(Y_train)\n",
    "    \n",
    "    encoder = LabelEncoder()\n",
    "    encoder.fit(Y_test)\n",
    "    Y_test = encoder.transform(Y_test)\n",
    "    Y_test = np_utils.to_categorical(Y_test)\n",
    "    \n",
    "    X_train = X_train/360\n",
    "    X_test = X_test/360\n",
    "    \n",
    "    \n",
    "    return X_train, Y_train, X_test, Y_test\n",
    "\n",
    "X_train, Y_train, X_test, Y_test = preprocess(X_train_new,y_train_new,X_test,y_test)"
   ]
  },
  {
   "cell_type": "markdown",
   "id": "503e0557-0c09-4002-8e00-4720f6a7af77",
   "metadata": {},
   "source": [
    "## Baseline Model"
   ]
  },
  {
   "cell_type": "code",
   "execution_count": null,
   "id": "9a3570c6-2ae4-410d-98a3-fddb7b5aee87",
   "metadata": {},
   "outputs": [],
   "source": []
  },
  {
   "cell_type": "code",
   "execution_count": 26,
   "id": "bd722bee-d90f-46bf-9c94-cf7899623667",
   "metadata": {},
   "outputs": [],
   "source": [
    "#encode the output\n",
    "from sklearn.preprocessing import LabelEncoder\n",
    "from keras.utils import np_utils\n",
    "\n",
    "encoder = LabelEncoder()\n",
    "encoder.fit(y_train)\n",
    "y_train = encoder.transform(y_train)\n",
    "# convert integers to dummy variables (i.e. one hot encoded)\n",
    "y_train = np_utils.to_categorical(y_train)\n"
   ]
  },
  {
   "cell_type": "code",
   "execution_count": 27,
   "id": "98090bc4-0115-49cb-ac64-0ffe9ee0452d",
   "metadata": {},
   "outputs": [
    {
     "data": {
      "text/plain": [
       "array([[0., 1., 0., 0., 0., 0.],\n",
       "       [0., 0., 0., 0., 1., 0.],\n",
       "       [1., 0., 0., 0., 0., 0.],\n",
       "       ...,\n",
       "       [0., 0., 1., 0., 0., 0.],\n",
       "       [0., 1., 0., 0., 0., 0.],\n",
       "       [0., 0., 0., 0., 0., 1.]], dtype=float32)"
      ]
     },
     "execution_count": 27,
     "metadata": {},
     "output_type": "execute_result"
    }
   ],
   "source": [
    "y_train"
   ]
  },
  {
   "cell_type": "code",
   "execution_count": 28,
   "id": "aa336435-14ed-40d5-a337-cf7a1d2c4429",
   "metadata": {},
   "outputs": [],
   "source": [
    "y_test_dummy = y_test"
   ]
  },
  {
   "cell_type": "code",
   "execution_count": 29,
   "id": "30c73067-dc63-400e-acf5-ef9c5fc2a37d",
   "metadata": {},
   "outputs": [
    {
     "data": {
      "text/plain": [
       "array([[0., 0., 0., 1., 0., 0.],\n",
       "       [0., 0., 0., 0., 1., 0.],\n",
       "       [0., 0., 1., 0., 0., 0.],\n",
       "       ...,\n",
       "       [0., 0., 0., 0., 0., 1.],\n",
       "       [1., 0., 0., 0., 0., 0.],\n",
       "       [0., 1., 0., 0., 0., 0.]], dtype=float32)"
      ]
     },
     "execution_count": 29,
     "metadata": {},
     "output_type": "execute_result"
    }
   ],
   "source": [
    "\n",
    "encoder = LabelEncoder()\n",
    "encoder.fit(y_test_dummy)\n",
    "y_test_dummy = encoder.transform(y_test_dummy)\n",
    "y_test_dummy = np_utils.to_categorical(y_test_dummy)\n",
    "y_test_dummy"
   ]
  },
  {
   "cell_type": "code",
   "execution_count": 30,
   "id": "18b29ad1-398c-43f5-a0ca-fe3f61e56ffe",
   "metadata": {},
   "outputs": [
    {
     "data": {
      "text/plain": [
       "(670, 6)"
      ]
     },
     "execution_count": 30,
     "metadata": {},
     "output_type": "execute_result"
    }
   ],
   "source": [
    "y_test_dummy.shape"
   ]
  },
  {
   "cell_type": "code",
   "execution_count": 31,
   "id": "d3aebc1b-9ece-451a-9146-1f59868de61e",
   "metadata": {},
   "outputs": [],
   "source": [
    "X_train_dummy = X_train\n",
    "X_test_dummy = X_test"
   ]
  },
  {
   "cell_type": "code",
   "execution_count": 32,
   "id": "743bd81d-dfdf-4f6c-9b64-cbd5897cb882",
   "metadata": {},
   "outputs": [],
   "source": [
    "X_train_dummy.shape\n",
    "X_train_dummy = X_train_dummy/360"
   ]
  },
  {
   "cell_type": "code",
   "execution_count": 33,
   "id": "c7329295-3f60-43b9-8c1e-9acee53d80dc",
   "metadata": {},
   "outputs": [],
   "source": [
    "X_test_dummy = X_test_dummy/360"
   ]
  },
  {
   "cell_type": "code",
   "execution_count": 34,
   "id": "83368c96-3b5f-4e79-8b72-ab2de08eaa34",
   "metadata": {},
   "outputs": [],
   "source": [
    "X_train_dummy=tf.reshape(X_train_dummy,shape=[2678,-1])"
   ]
  },
  {
   "cell_type": "code",
   "execution_count": 35,
   "id": "8b364b9d-f088-46cb-919e-fc148e6c4907",
   "metadata": {
    "tags": []
   },
   "outputs": [
    {
     "data": {
      "text/plain": [
       "TensorShape([670, 30, 8])"
      ]
     },
     "execution_count": 35,
     "metadata": {},
     "output_type": "execute_result"
    }
   ],
   "source": [
    "X_test.shape"
   ]
  },
  {
   "cell_type": "code",
   "execution_count": 36,
   "id": "2ee6b7a5-13d6-4c08-ae71-1c1693c76054",
   "metadata": {},
   "outputs": [],
   "source": [
    "X_test_dummy=tf.reshape(X_test_dummy,shape=[670,-1])"
   ]
  },
  {
   "cell_type": "code",
   "execution_count": 77,
   "id": "bcef24bc-44a3-4f27-ac7b-a72c40bb370d",
   "metadata": {},
   "outputs": [],
   "source": []
  },
  {
   "cell_type": "code",
   "execution_count": 37,
   "id": "5dac35d3-f317-4f9c-af47-1b62b92792ef",
   "metadata": {},
   "outputs": [],
   "source": [
    "# MLP "
   ]
  },
  {
   "cell_type": "code",
   "execution_count": 48,
   "id": "452762e9-a8b5-4185-8793-5865257c4679",
   "metadata": {},
   "outputs": [],
   "source": [
    "from tensorflow.keras.models import Sequential\n",
    "from tensorflow.keras.layers import Dense,Dropout\n",
    "from tensorflow.keras.utils import to_categorical\n",
    "from tensorflow.keras.optimizers import RMSprop"
   ]
  },
  {
   "cell_type": "code",
   "execution_count": 84,
   "id": "ebdc8eb4-de7a-4e4a-b80b-22419191ee53",
   "metadata": {},
   "outputs": [],
   "source": [
    "model = Sequential()\n",
    "model.add(Dense(512,input_dim=240,activation = 'relu'))\n",
    "model.add(Dense(256,activation = 'relu'))\n",
    "model.add(Dense(64,activation = 'relu'))\n",
    "model.add(Dense(30,activation = 'relu'))\n",
    "model.add(Dense(6,activation = 'softmax'))"
   ]
  },
  {
   "cell_type": "code",
   "execution_count": 85,
   "id": "f3ae6619-613c-47d3-9e16-860c15083ea9",
   "metadata": {},
   "outputs": [],
   "source": [
    " model.compile(loss='categorical_crossentropy', optimizer='adam', metrics=['accuracy'])"
   ]
  },
  {
   "cell_type": "code",
   "execution_count": 90,
   "id": "ae1441e9-839e-49cb-8dd3-4b6f1752b074",
   "metadata": {},
   "outputs": [
    {
     "data": {
      "text/plain": [
       "<keras.callbacks.History at 0x7fa65ea58280>"
      ]
     },
     "execution_count": 90,
     "metadata": {},
     "output_type": "execute_result"
    }
   ],
   "source": [
    "model.fit(X_train_dummy,y_train,batch_size=128,epochs=100,verbose=0)"
   ]
  },
  {
   "cell_type": "code",
   "execution_count": 91,
   "id": "be8b6264-1e1d-4738-a79d-17100fccbe43",
   "metadata": {},
   "outputs": [],
   "source": [
    "loss,accuracy = model.evaluate(X_train_dummy,y_train,verbose=0)"
   ]
  },
  {
   "cell_type": "code",
   "execution_count": 92,
   "id": "ae1af9dd-b4d8-47d8-bd29-42caa56e54ca",
   "metadata": {},
   "outputs": [
    {
     "data": {
      "text/plain": [
       "0.029788853600621223"
      ]
     },
     "execution_count": 92,
     "metadata": {},
     "output_type": "execute_result"
    }
   ],
   "source": [
    "loss"
   ]
  },
  {
   "cell_type": "code",
   "execution_count": 93,
   "id": "bdd15e16-aac8-49b2-9fa7-b087d9fc9854",
   "metadata": {},
   "outputs": [
    {
     "data": {
      "text/plain": [
       "0.9902912378311157"
      ]
     },
     "execution_count": 93,
     "metadata": {},
     "output_type": "execute_result"
    }
   ],
   "source": [
    "accuracy"
   ]
  },
  {
   "cell_type": "code",
   "execution_count": 125,
   "id": "d8ec7ddb-7083-42c7-9a2e-3984df0b50bf",
   "metadata": {},
   "outputs": [],
   "source": [
    "loss,accuracy = model.evaluate(X_test_dummy,y_test_dummy,verbose=0)"
   ]
  },
  {
   "cell_type": "code",
   "execution_count": 126,
   "id": "f7dc7081-ac02-4730-923f-5914d660dce7",
   "metadata": {},
   "outputs": [
    {
     "data": {
      "text/plain": [
       "0.15996868908405304"
      ]
     },
     "execution_count": 126,
     "metadata": {},
     "output_type": "execute_result"
    }
   ],
   "source": [
    "loss"
   ]
  },
  {
   "cell_type": "code",
   "execution_count": 127,
   "id": "5d1e36a7-19f5-48b9-915d-027427ca5a2a",
   "metadata": {},
   "outputs": [
    {
     "data": {
      "text/plain": [
       "0.9656716585159302"
      ]
     },
     "execution_count": 127,
     "metadata": {},
     "output_type": "execute_result"
    }
   ],
   "source": [
    "accuracy"
   ]
  },
  {
   "cell_type": "code",
   "execution_count": null,
   "id": "006d4bdd-5e36-4df8-82d0-5de89caaf3f8",
   "metadata": {},
   "outputs": [],
   "source": []
  },
  {
   "cell_type": "code",
   "execution_count": null,
   "id": "83c9fb7d-c494-45f6-806e-d2056dd3de25",
   "metadata": {},
   "outputs": [],
   "source": []
  },
  {
   "cell_type": "markdown",
   "id": "9e74a176-e727-419f-b4cb-c047da80d4ff",
   "metadata": {},
   "source": [
    "# LSTM"
   ]
  },
  {
   "cell_type": "code",
   "execution_count": 44,
   "id": "68c0afc8-9198-4b7d-9a2d-2458932f9389",
   "metadata": {},
   "outputs": [],
   "source": [
    "n_timesteps, n_features, n_outputs = X_train.shape[1], X_train.shape[2], y_train.shape[1]"
   ]
  },
  {
   "cell_type": "code",
   "execution_count": 45,
   "id": "d0be8bd1-7edf-4f62-920a-3addeda78046",
   "metadata": {},
   "outputs": [
    {
     "name": "stdout",
     "output_type": "stream",
     "text": [
      "30 8 6\n"
     ]
    }
   ],
   "source": [
    "print(n_timesteps, n_features, n_outputs )"
   ]
  },
  {
   "cell_type": "code",
   "execution_count": 2,
   "id": "fcbaf58e-ffda-49fa-86c9-843a7ed7ca78",
   "metadata": {},
   "outputs": [
    {
     "name": "stderr",
     "output_type": "stream",
     "text": [
      "2022-12-08 03:52:35.886115: I tensorflow/core/platform/cpu_feature_guard.cc:193] This TensorFlow binary is optimized with oneAPI Deep Neural Network Library (oneDNN) to use the following CPU instructions in performance-critical operations:  AVX2 FMA\n",
      "To enable them in other operations, rebuild TensorFlow with the appropriate compiler flags.\n",
      "2022-12-08 03:53:08.658958: W tensorflow/stream_executor/platform/default/dso_loader.cc:64] Could not load dynamic library 'libcudart.so.11.0'; dlerror: libcudart.so.11.0: cannot open shared object file: No such file or directory\n",
      "2022-12-08 03:53:08.659005: I tensorflow/stream_executor/cuda/cudart_stub.cc:29] Ignore above cudart dlerror if you do not have a GPU set up on your machine.\n",
      "2022-12-08 03:53:08.952860: E tensorflow/stream_executor/cuda/cuda_blas.cc:2981] Unable to register cuBLAS factory: Attempting to register factory for plugin cuBLAS when one has already been registered\n",
      "2022-12-08 03:53:13.779095: W tensorflow/stream_executor/platform/default/dso_loader.cc:64] Could not load dynamic library 'libnvinfer.so.7'; dlerror: libnvinfer.so.7: cannot open shared object file: No such file or directory\n",
      "2022-12-08 03:53:13.779333: W tensorflow/stream_executor/platform/default/dso_loader.cc:64] Could not load dynamic library 'libnvinfer_plugin.so.7'; dlerror: libnvinfer_plugin.so.7: cannot open shared object file: No such file or directory\n",
      "2022-12-08 03:53:13.779343: W tensorflow/compiler/tf2tensorrt/utils/py_utils.cc:38] TF-TRT Warning: Cannot dlopen some TensorRT libraries. If you would like to use Nvidia GPU with TensorRT, please make sure the missing libraries mentioned above are installed properly.\n"
     ]
    }
   ],
   "source": [
    "#imports\n",
    "from numpy import mean\n",
    "from numpy import std\n",
    "from numpy import dstack\n",
    "from pandas import read_csv\n",
    "from keras.models import Sequential\n",
    "from keras.layers import Dense\n",
    "from keras.layers import Flatten\n",
    "from keras.layers import Dropout\n",
    "from keras.layers import LSTM\n",
    "from keras.utils import to_categorical"
   ]
  },
  {
   "cell_type": "code",
   "execution_count": 22,
   "id": "3188115b-b11e-4a33-878a-4d8e03ba0e4d",
   "metadata": {},
   "outputs": [],
   "source": [
    "# fit and evaluate a model\n",
    "def evaluate_model(trainX, trainy, testX, testy):\n",
    "\tverbose, epochs, batch_size = 0, 10, 64\n",
    "\tn_timesteps, n_features, n_outputs = trainX.shape[1], trainX.shape[2], trainy.shape[1]\n",
    "\tmodel = Sequential()\n",
    "\tmodel.add(LSTM(30, input_shape=(n_timesteps,n_features)))\n",
    "\tmodel.add(Dropout(0.5))\n",
    "\tmodel.add(Dense(10, activation='relu'))\n",
    "\tmodel.add(Dense(n_outputs, activation='softmax'))\n",
    "\tmodel.compile(loss='categorical_crossentropy', optimizer='adam', metrics=['accuracy'])\n",
    "\t# fit network\n",
    "\tmodel.fit(trainX, trainy, epochs=epochs, batch_size=batch_size, verbose=verbose)\n",
    "\t# evaluate model\n",
    "\t_, accuracy = model.evaluate(testX, testy, batch_size=batch_size, verbose=1)\n",
    "\treturn model"
   ]
  },
  {
   "cell_type": "code",
   "execution_count": 71,
   "id": "e5a84063-2017-43f3-b478-e1afc41e58d5",
   "metadata": {},
   "outputs": [],
   "source": [
    "from lstm import get_data_train_test\n",
    "import importlib\n",
    "importlib.reload(get_data_train_test)\n",
    "X_train, Y_train, X_test, Y_test = get_data_train_test.get_data_numpy()"
   ]
  },
  {
   "cell_type": "code",
   "execution_count": 74,
   "id": "da96feab-2da5-4999-8428-8bed278e2b43",
   "metadata": {},
   "outputs": [
    {
     "name": "stdout",
     "output_type": "stream",
     "text": [
      "11/11 [==============================] - 0s 4ms/step - loss: 0.5676 - accuracy: 0.7448\n"
     ]
    }
   ],
   "source": [
    "model = evaluate_model(X_train, Y_train, X_test, Y_test)"
   ]
  },
  {
   "cell_type": "code",
   "execution_count": 105,
   "id": "06908580-9c9c-4e3a-aba7-59105fc5693c",
   "metadata": {},
   "outputs": [],
   "source": [
    "def build_clf(layers,nodes,units,dropout):\n",
    "  # creating the layers of the NN\n",
    "    model = Sequential()\n",
    "    \n",
    "    if layers == 2:\n",
    "        model.add(LSTM(nodes, input_shape=(30,8),activation='relu',return_sequences=True))\n",
    "        model.add(Dropout(dropout))\n",
    "        model.add(LSTM(nodes,activation='relu'))\n",
    "        model.add(Dropout(dropout))\n",
    "    else:\n",
    "        model.add(LSTM(nodes, input_shape=(30,8)))\n",
    "        model.add(Dropout(dropout))\n",
    "        \n",
    "    model.add(Dense(units, activation='relu'))\n",
    "    model.add(Dense(6, activation='softmax'))\n",
    "    model.compile(loss='categorical_crossentropy', optimizer='adam', metrics=['accuracy'])\n",
    "    return model"
   ]
  },
  {
   "cell_type": "code",
   "execution_count": 106,
   "id": "c8f77554-550f-4c48-a4b3-8f8c4a6a1fd2",
   "metadata": {},
   "outputs": [],
   "source": [
    "from scikeras.wrappers import KerasClassifier\n",
    "model=KerasClassifier(model=build_clf,layers=1,nodes=30,units=10,dropout=0.5)"
   ]
  },
  {
   "cell_type": "code",
   "execution_count": 107,
   "id": "f4e6f26c-487f-4155-a566-f039d691aa35",
   "metadata": {},
   "outputs": [
    {
     "data": {
      "text/plain": [
       "dict_keys(['model', 'build_fn', 'warm_start', 'random_state', 'optimizer', 'loss', 'metrics', 'batch_size', 'validation_batch_size', 'verbose', 'callbacks', 'validation_split', 'shuffle', 'run_eagerly', 'epochs', 'layers', 'nodes', 'units', 'dropout', 'class_weight'])"
      ]
     },
     "execution_count": 107,
     "metadata": {},
     "output_type": "execute_result"
    }
   ],
   "source": [
    "model.get_params().keys()"
   ]
  },
  {
   "cell_type": "code",
   "execution_count": 112,
   "id": "eb5c48c8-38d9-4df4-b6cf-26d290cab36f",
   "metadata": {
    "collapsed": true,
    "jupyter": {
     "outputs_hidden": true
    },
    "tags": []
   },
   "outputs": [
    {
     "name": "stdout",
     "output_type": "stream",
     "text": [
      "Epoch 1/5\n",
      "38/38 [==============================] - 2s 9ms/step - loss: 1.7631 - accuracy: 0.2253\n",
      "Epoch 2/5\n",
      "38/38 [==============================] - 0s 9ms/step - loss: 1.5260 - accuracy: 0.3207\n",
      "Epoch 3/5\n",
      "38/38 [==============================] - 0s 10ms/step - loss: 1.3019 - accuracy: 0.4141\n",
      "Epoch 4/5\n",
      "38/38 [==============================] - 0s 9ms/step - loss: 1.1823 - accuracy: 0.5402\n",
      "Epoch 5/5\n",
      "38/38 [==============================] - 0s 10ms/step - loss: 0.9424 - accuracy: 0.6448\n",
      "5/5 [==============================] - 0s 3ms/step\n",
      "Epoch 1/5\n",
      "38/38 [==============================] - 2s 9ms/step - loss: 1.6970 - accuracy: 0.2440\n",
      "Epoch 2/5\n",
      "38/38 [==============================] - 0s 9ms/step - loss: 1.4598 - accuracy: 0.4888\n",
      "Epoch 3/5\n",
      "38/38 [==============================] - 0s 9ms/step - loss: 1.3045 - accuracy: 0.4913\n",
      "Epoch 4/5\n",
      "38/38 [==============================] - 0s 9ms/step - loss: 1.2032 - accuracy: 0.6203\n",
      "Epoch 5/5\n",
      "38/38 [==============================] - 0s 9ms/step - loss: 1.0990 - accuracy: 0.6320\n",
      "5/5 [==============================] - 0s 3ms/step\n",
      "Epoch 1/5\n",
      "38/38 [==============================] - 2s 9ms/step - loss: 1.7361 - accuracy: 0.2394\n",
      "Epoch 2/5\n",
      "38/38 [==============================] - 0s 9ms/step - loss: 1.5369 - accuracy: 0.3253\n",
      "Epoch 3/5\n",
      "38/38 [==============================] - 0s 9ms/step - loss: 1.4469 - accuracy: 0.3378\n",
      "Epoch 4/5\n",
      "38/38 [==============================] - 0s 9ms/step - loss: 1.3369 - accuracy: 0.4718\n",
      "Epoch 5/5\n",
      "38/38 [==============================] - 0s 10ms/step - loss: 1.2646 - accuracy: 0.5012\n",
      "5/5 [==============================] - 0s 3ms/step\n",
      "Epoch 1/5\n",
      "38/38 [==============================] - 2s 9ms/step - loss: 1.7290 - accuracy: 0.1983\n",
      "Epoch 2/5\n",
      "38/38 [==============================] - 0s 9ms/step - loss: 1.5228 - accuracy: 0.2705\n",
      "Epoch 3/5\n",
      "38/38 [==============================] - 0s 9ms/step - loss: 1.3253 - accuracy: 0.4527\n",
      "Epoch 4/5\n",
      "38/38 [==============================] - 0s 10ms/step - loss: 1.2379 - accuracy: 0.5407\n",
      "Epoch 5/5\n",
      "38/38 [==============================] - 0s 9ms/step - loss: 1.1292 - accuracy: 0.5087\n",
      "5/5 [==============================] - 0s 4ms/step\n",
      "Epoch 1/5\n",
      "38/38 [==============================] - 2s 9ms/step - loss: 1.6695 - accuracy: 0.3307\n",
      "Epoch 2/5\n",
      "38/38 [==============================] - 0s 9ms/step - loss: 1.2962 - accuracy: 0.4660\n",
      "Epoch 3/5\n",
      "38/38 [==============================] - 0s 9ms/step - loss: 1.0199 - accuracy: 0.6299\n",
      "Epoch 4/5\n",
      "38/38 [==============================] - 0s 9ms/step - loss: 0.8496 - accuracy: 0.7041\n",
      "Epoch 5/5\n",
      "38/38 [==============================] - 0s 9ms/step - loss: 0.7564 - accuracy: 0.7548\n",
      "5/5 [==============================] - 0s 4ms/step\n",
      "Epoch 1/5\n",
      "38/38 [==============================] - 3s 11ms/step - loss: 1.6410 - accuracy: 0.3921\n",
      "Epoch 2/5\n",
      "38/38 [==============================] - 0s 9ms/step - loss: 1.1707 - accuracy: 0.5647\n",
      "Epoch 3/5\n",
      "38/38 [==============================] - 0s 10ms/step - loss: 0.9562 - accuracy: 0.7627\n",
      "Epoch 4/5\n",
      "38/38 [==============================] - 0s 10ms/step - loss: 0.8211 - accuracy: 0.8025\n",
      "Epoch 5/5\n",
      "38/38 [==============================] - 0s 9ms/step - loss: 0.7106 - accuracy: 0.8100\n",
      "5/5 [==============================] - 0s 4ms/step\n",
      "Epoch 1/5\n",
      "38/38 [==============================] - 3s 10ms/step - loss: 1.7368 - accuracy: 0.2643\n",
      "Epoch 2/5\n",
      "38/38 [==============================] - 0s 8ms/step - loss: 1.5152 - accuracy: 0.3963\n",
      "Epoch 3/5\n",
      "38/38 [==============================] - 0s 8ms/step - loss: 1.3797 - accuracy: 0.4992\n",
      "Epoch 4/5\n",
      "38/38 [==============================] - 0s 9ms/step - loss: 1.1599 - accuracy: 0.6315\n",
      "Epoch 5/5\n",
      "38/38 [==============================] - 0s 8ms/step - loss: 0.9050 - accuracy: 0.8237\n",
      "5/5 [==============================] - 0s 4ms/step\n",
      "Epoch 1/5\n",
      "38/38 [==============================] - 3s 20ms/step - loss: 1.7071 - accuracy: 0.3369\n",
      "Epoch 2/5\n",
      "38/38 [==============================] - 1s 20ms/step - loss: 1.3310 - accuracy: 0.4905\n",
      "Epoch 3/5\n",
      "38/38 [==============================] - 0s 10ms/step - loss: 1.1126 - accuracy: 0.5004\n",
      "Epoch 4/5\n",
      "38/38 [==============================] - 0s 10ms/step - loss: 1.0274 - accuracy: 0.4992\n",
      "Epoch 5/5\n",
      "38/38 [==============================] - 0s 10ms/step - loss: 0.9682 - accuracy: 0.5340\n",
      "5/5 [==============================] - 0s 4ms/step\n",
      "Epoch 1/5\n",
      "38/38 [==============================] - 2s 10ms/step - loss: 1.6467 - accuracy: 0.2236\n",
      "Epoch 2/5\n",
      "38/38 [==============================] - 1s 20ms/step - loss: 1.2063 - accuracy: 0.5504\n",
      "Epoch 3/5\n",
      "38/38 [==============================] - 1s 19ms/step - loss: 1.0190 - accuracy: 0.6437\n",
      "Epoch 4/5\n",
      "38/38 [==============================] - 1s 19ms/step - loss: 0.9337 - accuracy: 0.6562\n",
      "Epoch 5/5\n",
      "38/38 [==============================] - 0s 10ms/step - loss: 0.8747 - accuracy: 0.6856\n",
      "5/5 [==============================] - 0s 3ms/step\n",
      "Epoch 1/5\n",
      "38/38 [==============================] - 2s 9ms/step - loss: 1.7261 - accuracy: 0.3903\n",
      "Epoch 2/5\n",
      "38/38 [==============================] - 0s 8ms/step - loss: 1.3671 - accuracy: 0.5131\n",
      "Epoch 3/5\n",
      "38/38 [==============================] - 0s 9ms/step - loss: 1.0926 - accuracy: 0.5321\n",
      "Epoch 4/5\n",
      "38/38 [==============================] - 1s 20ms/step - loss: 0.9371 - accuracy: 0.7466\n",
      "Epoch 5/5\n",
      "38/38 [==============================] - 1s 21ms/step - loss: 0.8687 - accuracy: 0.8005\n",
      "5/5 [==============================] - 1s 7ms/step\n",
      "Epoch 1/5\n",
      "42/42 [==============================] - 2s 9ms/step - loss: 1.6936 - accuracy: 0.2543\n",
      "Epoch 2/5\n",
      "42/42 [==============================] - 0s 9ms/step - loss: 1.3793 - accuracy: 0.3891\n",
      "Epoch 3/5\n",
      "42/42 [==============================] - 0s 9ms/step - loss: 1.1894 - accuracy: 0.4522\n",
      "Epoch 4/5\n",
      "42/42 [==============================] - 0s 8ms/step - loss: 0.9475 - accuracy: 0.6344\n",
      "Epoch 5/5\n",
      "42/42 [==============================] - 0s 8ms/step - loss: 0.7595 - accuracy: 0.7920\n"
     ]
    }
   ],
   "source": [
    "from sklearn.model_selection import GridSearchCV\n",
    "\n",
    "# params={'batch_size':[32,64,128], \n",
    "#         'epochs':[20,50,100],\n",
    "#         #'hidden_layers':[1],\n",
    "#         'layers':[1,2,3],\n",
    "#         'nodes':[30,60,90],\n",
    "#         'units':[5,10,50,100],\n",
    "#         'dropout':[0.2,0.3,0.5]\n",
    "#         }\n",
    "params={'batch_size':[64], \n",
    "        'epochs':[5],\n",
    "        #'hidden_layers':[1],\n",
    "        'layers':[1],\n",
    "        'nodes':[30],\n",
    "        'units':[5],\n",
    "        'dropout':[0.2]\n",
    "        }\n",
    "gs=GridSearchCV(estimator=model, param_grid=params,cv=10,refit=True)\n",
    "# now fit the dataset to the GridSearchCV object. \n",
    "gs = gs.fit(X_train, Y_train)"
   ]
  },
  {
   "cell_type": "code",
   "execution_count": null,
   "id": "3509c007-cf83-4aa8-888a-196a2dbe354f",
   "metadata": {},
   "outputs": [],
   "source": []
  },
  {
   "cell_type": "code",
   "execution_count": 113,
   "id": "1c999fe5-5505-473f-83b9-5f0bb22711d0",
   "metadata": {},
   "outputs": [],
   "source": [
    "best_params=gs.best_params_\n",
    "accuracy=gs.best_score_"
   ]
  },
  {
   "cell_type": "code",
   "execution_count": 114,
   "id": "8877cefd-1437-4e83-a077-fe746eca0c99",
   "metadata": {},
   "outputs": [
    {
     "data": {
      "text/plain": [
       "{'batch_size': 64,\n",
       " 'dropout': 0.2,\n",
       " 'epochs': 5,\n",
       " 'layers': 1,\n",
       " 'nodes': 30,\n",
       " 'units': 5}"
      ]
     },
     "execution_count": 114,
     "metadata": {},
     "output_type": "execute_result"
    }
   ],
   "source": [
    "best_params"
   ]
  },
  {
   "cell_type": "code",
   "execution_count": 115,
   "id": "11bdf7b6-7c33-4b28-b4f9-b1354876a1a0",
   "metadata": {},
   "outputs": [
    {
     "data": {
      "text/plain": [
       "0.7047137905975738"
      ]
     },
     "execution_count": 115,
     "metadata": {},
     "output_type": "execute_result"
    }
   ],
   "source": [
    "accuracy"
   ]
  },
  {
   "cell_type": "code",
   "execution_count": 116,
   "id": "07a86a44-dbd4-4631-9b4a-c0c8370e9bde",
   "metadata": {},
   "outputs": [],
   "source": [
    "estimator = gs.best_estimator_"
   ]
  },
  {
   "cell_type": "code",
   "execution_count": 119,
   "id": "c9974044-8eb8-4d71-bcea-379bf68b1966",
   "metadata": {},
   "outputs": [
    {
     "name": "stderr",
     "output_type": "stream",
     "text": [
      "WARNING:absl:Found untraced functions such as lstm_cell_130_layer_call_fn, lstm_cell_130_layer_call_and_return_conditional_losses while saving (showing 2 of 2). These functions will not be directly callable after loading.\n"
     ]
    },
    {
     "name": "stdout",
     "output_type": "stream",
     "text": [
      "INFO:tensorflow:Assets written to: ram:///tmp/tmp2wp50an0/assets\n"
     ]
    },
    {
     "name": "stderr",
     "output_type": "stream",
     "text": [
      "INFO:tensorflow:Assets written to: ram:///tmp/tmp2wp50an0/assets\n"
     ]
    },
    {
     "data": {
      "text/plain": [
       "['your-model.joblib']"
      ]
     },
     "execution_count": 119,
     "metadata": {},
     "output_type": "execute_result"
    }
   ],
   "source": [
    "from joblib import dump, load\n",
    "dump(estimator, \"your-model.joblib\")\n"
   ]
  },
  {
   "cell_type": "code",
   "execution_count": 118,
   "id": "a0c62631-7189-434b-bdc4-0c09a71b8c43",
   "metadata": {},
   "outputs": [
    {
     "ename": "AttributeError",
     "evalue": "'KerasClassifier' object has no attribute 'save'",
     "output_type": "error",
     "traceback": [
      "\u001b[0;31m---------------------------------------------------------------------------\u001b[0m",
      "\u001b[0;31mAttributeError\u001b[0m                            Traceback (most recent call last)",
      "Cell \u001b[0;32mIn [118], line 1\u001b[0m\n\u001b[0;32m----> 1\u001b[0m \u001b[43mestimator\u001b[49m\u001b[38;5;241;43m.\u001b[39;49m\u001b[43msave\u001b[49m(\u001b[38;5;124m'\u001b[39m\u001b[38;5;124mmodel/\u001b[39m\u001b[38;5;124m'\u001b[39m)\n",
      "\u001b[0;31mAttributeError\u001b[0m: 'KerasClassifier' object has no attribute 'save'"
     ]
    }
   ],
   "source": [
    "estimator.save('model/')"
   ]
  },
  {
   "cell_type": "code",
   "execution_count": 126,
   "id": "34942515-0985-4874-a3f0-5af40e73a74a",
   "metadata": {},
   "outputs": [],
   "source": [
    "def evaluate_model(trainX, trainy, testX, testy):\n",
    "    verbose, epochs, batch_size = 0, 100, 64\n",
    "    n_timesteps, n_features, n_outputs = trainX.shape[1], trainX.shape[2], trainy.shape[1]\n",
    "    model = Sequential()\n",
    "    model.add(LSTM(30, input_shape=(n_timesteps,n_features),activation='relu',return_sequences=True))\n",
    "    model.add(Dropout(0.5))\n",
    "    model.add(LSTM(30,activation='relu'))\n",
    "    model.add(Dropout(0.5))\n",
    "    model.add(Dense(100, activation='relu'))\n",
    "    model.add(Dense(n_outputs, activation='softmax'))\n",
    "    model.compile(loss='categorical_crossentropy', optimizer='adam', metrics=['accuracy'])\n",
    "    # fit network\n",
    "    model.fit(trainX, trainy, epochs=epochs, batch_size=batch_size, verbose=verbose)\n",
    "    # evaluate model\n",
    "    _, accuracy = model.evaluate(testX, testy, batch_size=batch_size, verbose=1)\n",
    "    return model\n"
   ]
  },
  {
   "cell_type": "code",
   "execution_count": 127,
   "id": "fc561e66-9267-4c74-b216-f353bac33d1b",
   "metadata": {
    "tags": []
   },
   "outputs": [
    {
     "name": "stdout",
     "output_type": "stream",
     "text": [
      "11/11 [==============================] - 0s 6ms/step - loss: 0.0810 - accuracy: 0.9791\n",
      "INFO:tensorflow:Assets written to: model/assets\n"
     ]
    },
    {
     "name": "stderr",
     "output_type": "stream",
     "text": [
      "INFO:tensorflow:Assets written to: model/assets\n"
     ]
    }
   ],
   "source": [
    "model = evaluate_model(X_train, Y_train, X_test, Y_test)\n",
    "model.save('model/')"
   ]
  },
  {
   "cell_type": "code",
   "execution_count": 121,
   "id": "c54e0a77-0f5f-4a3b-8905-ff46cb044244",
   "metadata": {},
   "outputs": [
    {
     "name": "stdout",
     "output_type": "stream",
     "text": [
      "(2678, 30, 8)\n",
      "(2678, 6)\n",
      "(670, 30, 8)\n",
      "(670, 6)\n"
     ]
    }
   ],
   "source": [
    "print(X_train.shape)\n",
    "print(Y_train.shape)\n",
    "print(X_test.shape)\n",
    "print(Y_test.shape)"
   ]
  },
  {
   "cell_type": "code",
   "execution_count": 120,
   "id": "c284be0e-a794-4afd-9bb2-6cfccd454e0f",
   "metadata": {},
   "outputs": [],
   "source": [
    "from tensorflow import keras\n",
    "model = keras.models.load_model('model/v2-97.91')\n"
   ]
  },
  {
   "cell_type": "code",
   "execution_count": 124,
   "id": "a4d3d4bc-30b9-4b13-9812-f3feafcd0070",
   "metadata": {},
   "outputs": [
    {
     "name": "stdout",
     "output_type": "stream",
     "text": [
      "Model: \"sequential_64\"\n",
      "_________________________________________________________________\n",
      " Layer (type)                Output Shape              Param #   \n",
      "=================================================================\n",
      " lstm_70 (LSTM)              (None, 30, 30)            4680      \n",
      "                                                                 \n",
      " dropout_68 (Dropout)        (None, 30, 30)            0         \n",
      "                                                                 \n",
      " lstm_71 (LSTM)              (None, 30)                7320      \n",
      "                                                                 \n",
      " dropout_69 (Dropout)        (None, 30)                0         \n",
      "                                                                 \n",
      " dense_122 (Dense)           (None, 100)               3100      \n",
      "                                                                 \n",
      " dense_123 (Dense)           (None, 6)                 606       \n",
      "                                                                 \n",
      "=================================================================\n",
      "Total params: 15,706\n",
      "Trainable params: 15,706\n",
      "Non-trainable params: 0\n",
      "_________________________________________________________________\n"
     ]
    }
   ],
   "source": [
    "model.summary()"
   ]
  },
  {
   "cell_type": "code",
   "execution_count": 125,
   "id": "ce5d7f1b-2e98-4e9a-b7eb-2d5571c3c868",
   "metadata": {},
   "outputs": [
    {
     "name": "stdout",
     "output_type": "stream",
     "text": [
      "21/21 [==============================] - 0s 5ms/step - loss: 0.0810 - accuracy: 0.9791\n"
     ]
    },
    {
     "data": {
      "text/plain": [
       "[0.08098598569631577, 0.9791044592857361]"
      ]
     },
     "execution_count": 125,
     "metadata": {},
     "output_type": "execute_result"
    }
   ],
   "source": [
    "model.evaluate(X_test,Y_test)"
   ]
  },
  {
   "cell_type": "code",
   "execution_count": 127,
   "id": "48b60dd4-a163-4774-802d-319c2b890a93",
   "metadata": {},
   "outputs": [
    {
     "data": {
      "text/plain": [
       "(30, 8)"
      ]
     },
     "execution_count": 127,
     "metadata": {},
     "output_type": "execute_result"
    }
   ],
   "source": [
    "X_test[0].shape"
   ]
  },
  {
   "cell_type": "code",
   "execution_count": 132,
   "id": "75940deb-75ca-4669-9eb8-adc608338fbc",
   "metadata": {},
   "outputs": [
    {
     "name": "stdout",
     "output_type": "stream",
     "text": [
      "21/21 [==============================] - 0s 5ms/step\n"
     ]
    },
    {
     "data": {
      "text/plain": [
       "array([[1.4799812e-21, 0.0000000e+00, 0.0000000e+00, 9.9999601e-01,\n",
       "        4.0448437e-20, 3.8744702e-06],\n",
       "       [0.0000000e+00, 0.0000000e+00, 0.0000000e+00, 0.0000000e+00,\n",
       "        9.9999994e-01, 0.0000000e+00],\n",
       "       [7.4119179e-04, 3.7660332e-08, 9.6884084e-01, 4.8332880e-03,\n",
       "        1.5160272e-02, 1.0424248e-02],\n",
       "       ...,\n",
       "       [4.1780800e-01, 2.1698488e-06, 2.8935980e-04, 8.3342828e-02,\n",
       "        7.4831590e-02, 4.2372614e-01],\n",
       "       [9.9937516e-01, 1.2917634e-16, 4.2857949e-04, 2.5512241e-08,\n",
       "        1.9148469e-04, 4.8660081e-06],\n",
       "       [5.3547327e-03, 2.7434888e-05, 8.2353944e-01, 3.3072297e-02,\n",
       "        6.8803996e-02, 6.9202140e-02]], dtype=float32)"
      ]
     },
     "execution_count": 132,
     "metadata": {},
     "output_type": "execute_result"
    }
   ],
   "source": [
    "model.predict(X_test)"
   ]
  },
  {
   "cell_type": "code",
   "execution_count": 133,
   "id": "1d854074-a7e5-49f4-9ad0-1eadd561f0e7",
   "metadata": {},
   "outputs": [
    {
     "data": {
      "text/plain": [
       "array([[0., 0., 0., 1., 0., 0.],\n",
       "       [0., 0., 0., 0., 1., 0.],\n",
       "       [0., 0., 1., 0., 0., 0.],\n",
       "       ...,\n",
       "       [0., 0., 0., 0., 0., 1.],\n",
       "       [1., 0., 0., 0., 0., 0.],\n",
       "       [0., 1., 0., 0., 0., 0.]], dtype=float32)"
      ]
     },
     "execution_count": 133,
     "metadata": {},
     "output_type": "execute_result"
    }
   ],
   "source": [
    "Y_test"
   ]
  },
  {
   "cell_type": "code",
   "execution_count": 136,
   "id": "5a816c70-43bc-4c1f-9861-bc6f5832a01e",
   "metadata": {},
   "outputs": [
    {
     "name": "stdout",
     "output_type": "stream",
     "text": [
      "21/21 [==============================] - 0s 5ms/step\n",
      "[[0.99259259 0.         0.01869159 0.         0.         0.00840336]\n",
      " [0.         1.         0.00934579 0.         0.         0.        ]\n",
      " [0.         0.         0.94392523 0.         0.         0.        ]\n",
      " [0.         0.         0.         1.         0.         0.04201681]\n",
      " [0.00740741 0.         0.00934579 0.         1.         0.00840336]\n",
      " [0.         0.         0.01869159 0.         0.         0.94117647]]\n"
     ]
    }
   ],
   "source": [
    "import numpy as np\n",
    "from sklearn.metrics import confusion_matrix\n",
    "y_prediction = model.predict(X_test)\n",
    "y_prediction = np.argmax (y_prediction, axis = 1)\n",
    "y_test=np.argmax(Y_test, axis=1)\n",
    "#Create confusion matrix and normalizes it over predicted (columns)\n",
    "result = confusion_matrix(y_test, y_prediction , normalize='pred')\n",
    "print(result)"
   ]
  },
  {
   "cell_type": "code",
   "execution_count": 144,
   "id": "424c29e6-2e4d-42e9-b7a7-3c6c0e89de86",
   "metadata": {},
   "outputs": [
    {
     "data": {
      "image/png": "[encoded data removed]",
      "text/plain": [
       "<Figure size 640x480 with 2 Axes>"
      ]
     },
     "metadata": {},
     "output_type": "display_data"
    }
   ],
   "source": [
    "import seaborn as sn\n",
    "import pandas as pd\n",
    "import matplotlib.pyplot as plt\n",
    "\n",
    "df_cm = pd.DataFrame(result, range(6), range(6))\n",
    "# plt.figure(figsize=(10,7))\n",
    "sn.set(font_scale=1.4) # for label size\n",
    "sn.heatmap(df_cm, annot=True, annot_kws={\"size\": 10},cmap=\"OrRd\") # font size\n",
    "\n",
    "plt.show()"
   ]
  },
  {
   "cell_type": "code",
   "execution_count": null,
   "id": "9f78e356-c6ea-4332-9cf7-06453b038b21",
   "metadata": {},
   "outputs": [],
   "source": []
  },
  {
   "cell_type": "markdown",
   "id": "73d63d42-f54f-4b97-88c7-64e7c532c696",
   "metadata": {},
   "source": [
    "# FULL"
   ]
  },
  {
   "cell_type": "code",
   "execution_count": 67,
   "id": "f3dae5d1-f430-4def-9aa6-9226d6cd9c54",
   "metadata": {},
   "outputs": [
    {
     "name": "stdout",
     "output_type": "stream",
     "text": [
      ">#1: 96.269\n",
      ">#2: 95.672\n"
     ]
    },
    {
     "ename": "KeyboardInterrupt",
     "evalue": "",
     "output_type": "error",
     "traceback": [
      "\u001b[0;31m---------------------------------------------------------------------------\u001b[0m",
      "\u001b[0;31mKeyboardInterrupt\u001b[0m                         Traceback (most recent call last)",
      "Cell \u001b[0;32mIn [67], line 96\u001b[0m\n\u001b[1;32m     93\u001b[0m      summarize_results(scores)\n\u001b[1;32m     95\u001b[0m \u001b[38;5;66;03m# run the experiment\u001b[39;00m\n\u001b[0;32m---> 96\u001b[0m \u001b[43mrun_experiment\u001b[49m\u001b[43m(\u001b[49m\u001b[43m)\u001b[49m\n",
      "Cell \u001b[0;32mIn [67], line 88\u001b[0m, in \u001b[0;36mrun_experiment\u001b[0;34m(repeats)\u001b[0m\n\u001b[1;32m     86\u001b[0m scores \u001b[38;5;241m=\u001b[39m \u001b[38;5;28mlist\u001b[39m()\n\u001b[1;32m     87\u001b[0m \u001b[38;5;28;01mfor\u001b[39;00m r \u001b[38;5;129;01min\u001b[39;00m \u001b[38;5;28mrange\u001b[39m(repeats):\n\u001b[0;32m---> 88\u001b[0m     score \u001b[38;5;241m=\u001b[39m \u001b[43mevaluate_model\u001b[49m\u001b[43m(\u001b[49m\u001b[43mtrainX\u001b[49m\u001b[43m,\u001b[49m\u001b[43m \u001b[49m\u001b[43mtrainy\u001b[49m\u001b[43m,\u001b[49m\u001b[43m \u001b[49m\u001b[43mtestX\u001b[49m\u001b[43m,\u001b[49m\u001b[43m \u001b[49m\u001b[43mtesty\u001b[49m\u001b[43m)\u001b[49m\n\u001b[1;32m     89\u001b[0m     score \u001b[38;5;241m=\u001b[39m score \u001b[38;5;241m*\u001b[39m \u001b[38;5;241m100.0\u001b[39m\n\u001b[1;32m     90\u001b[0m     \u001b[38;5;28mprint\u001b[39m(\u001b[38;5;124m'\u001b[39m\u001b[38;5;124m>#\u001b[39m\u001b[38;5;132;01m%d\u001b[39;00m\u001b[38;5;124m: \u001b[39m\u001b[38;5;132;01m%.3f\u001b[39;00m\u001b[38;5;124m'\u001b[39m \u001b[38;5;241m%\u001b[39m (r\u001b[38;5;241m+\u001b[39m\u001b[38;5;241m1\u001b[39m, score))\n",
      "Cell \u001b[0;32mIn [67], line 70\u001b[0m, in \u001b[0;36mevaluate_model\u001b[0;34m(trainX, trainy, testX, testy)\u001b[0m\n\u001b[1;32m     68\u001b[0m model\u001b[38;5;241m.\u001b[39mcompile(loss\u001b[38;5;241m=\u001b[39m\u001b[38;5;124m'\u001b[39m\u001b[38;5;124mcategorical_crossentropy\u001b[39m\u001b[38;5;124m'\u001b[39m, optimizer\u001b[38;5;241m=\u001b[39m\u001b[38;5;124m'\u001b[39m\u001b[38;5;124madam\u001b[39m\u001b[38;5;124m'\u001b[39m, metrics\u001b[38;5;241m=\u001b[39m[\u001b[38;5;124m'\u001b[39m\u001b[38;5;124maccuracy\u001b[39m\u001b[38;5;124m'\u001b[39m])\n\u001b[1;32m     69\u001b[0m \u001b[38;5;66;03m# fit network\u001b[39;00m\n\u001b[0;32m---> 70\u001b[0m \u001b[43mmodel\u001b[49m\u001b[38;5;241;43m.\u001b[39;49m\u001b[43mfit\u001b[49m\u001b[43m(\u001b[49m\u001b[43mtrainX\u001b[49m\u001b[43m,\u001b[49m\u001b[43m \u001b[49m\u001b[43mtrainy\u001b[49m\u001b[43m,\u001b[49m\u001b[43m \u001b[49m\u001b[43mepochs\u001b[49m\u001b[38;5;241;43m=\u001b[39;49m\u001b[43mepochs\u001b[49m\u001b[43m,\u001b[49m\u001b[43m \u001b[49m\u001b[43mbatch_size\u001b[49m\u001b[38;5;241;43m=\u001b[39;49m\u001b[43mbatch_size\u001b[49m\u001b[43m,\u001b[49m\u001b[43m \u001b[49m\u001b[43mverbose\u001b[49m\u001b[38;5;241;43m=\u001b[39;49m\u001b[43mverbose\u001b[49m\u001b[43m)\u001b[49m\n\u001b[1;32m     71\u001b[0m \u001b[38;5;66;03m# evaluate model\u001b[39;00m\n\u001b[1;32m     72\u001b[0m _, accuracy \u001b[38;5;241m=\u001b[39m model\u001b[38;5;241m.\u001b[39mevaluate(testX, testy, batch_size\u001b[38;5;241m=\u001b[39mbatch_size, verbose\u001b[38;5;241m=\u001b[39m\u001b[38;5;241m0\u001b[39m)\n",
      "File \u001b[0;32m~/anaconda3/envs/cs230projects/lib/python3.8/site-packages/keras/utils/traceback_utils.py:65\u001b[0m, in \u001b[0;36mfilter_traceback.<locals>.error_handler\u001b[0;34m(*args, **kwargs)\u001b[0m\n\u001b[1;32m     63\u001b[0m filtered_tb \u001b[38;5;241m=\u001b[39m \u001b[38;5;28;01mNone\u001b[39;00m\n\u001b[1;32m     64\u001b[0m \u001b[38;5;28;01mtry\u001b[39;00m:\n\u001b[0;32m---> 65\u001b[0m     \u001b[38;5;28;01mreturn\u001b[39;00m \u001b[43mfn\u001b[49m\u001b[43m(\u001b[49m\u001b[38;5;241;43m*\u001b[39;49m\u001b[43margs\u001b[49m\u001b[43m,\u001b[49m\u001b[43m \u001b[49m\u001b[38;5;241;43m*\u001b[39;49m\u001b[38;5;241;43m*\u001b[39;49m\u001b[43mkwargs\u001b[49m\u001b[43m)\u001b[49m\n\u001b[1;32m     66\u001b[0m \u001b[38;5;28;01mexcept\u001b[39;00m \u001b[38;5;167;01mException\u001b[39;00m \u001b[38;5;28;01mas\u001b[39;00m e:\n\u001b[1;32m     67\u001b[0m     filtered_tb \u001b[38;5;241m=\u001b[39m _process_traceback_frames(e\u001b[38;5;241m.\u001b[39m__traceback__)\n",
      "File \u001b[0;32m~/anaconda3/envs/cs230projects/lib/python3.8/site-packages/keras/engine/training.py:1564\u001b[0m, in \u001b[0;36mModel.fit\u001b[0;34m(self, x, y, batch_size, epochs, verbose, callbacks, validation_split, validation_data, shuffle, class_weight, sample_weight, initial_epoch, steps_per_epoch, validation_steps, validation_batch_size, validation_freq, max_queue_size, workers, use_multiprocessing)\u001b[0m\n\u001b[1;32m   1556\u001b[0m \u001b[38;5;28;01mwith\u001b[39;00m tf\u001b[38;5;241m.\u001b[39mprofiler\u001b[38;5;241m.\u001b[39mexperimental\u001b[38;5;241m.\u001b[39mTrace(\n\u001b[1;32m   1557\u001b[0m     \u001b[38;5;124m\"\u001b[39m\u001b[38;5;124mtrain\u001b[39m\u001b[38;5;124m\"\u001b[39m,\n\u001b[1;32m   1558\u001b[0m     epoch_num\u001b[38;5;241m=\u001b[39mepoch,\n\u001b[0;32m   (...)\u001b[0m\n\u001b[1;32m   1561\u001b[0m     _r\u001b[38;5;241m=\u001b[39m\u001b[38;5;241m1\u001b[39m,\n\u001b[1;32m   1562\u001b[0m ):\n\u001b[1;32m   1563\u001b[0m     callbacks\u001b[38;5;241m.\u001b[39mon_train_batch_begin(step)\n\u001b[0;32m-> 1564\u001b[0m     tmp_logs \u001b[38;5;241m=\u001b[39m \u001b[38;5;28;43mself\u001b[39;49m\u001b[38;5;241;43m.\u001b[39;49m\u001b[43mtrain_function\u001b[49m\u001b[43m(\u001b[49m\u001b[43miterator\u001b[49m\u001b[43m)\u001b[49m\n\u001b[1;32m   1565\u001b[0m     \u001b[38;5;28;01mif\u001b[39;00m data_handler\u001b[38;5;241m.\u001b[39mshould_sync:\n\u001b[1;32m   1566\u001b[0m         context\u001b[38;5;241m.\u001b[39masync_wait()\n",
      "File \u001b[0;32m~/anaconda3/envs/cs230projects/lib/python3.8/site-packages/tensorflow/python/util/traceback_utils.py:150\u001b[0m, in \u001b[0;36mfilter_traceback.<locals>.error_handler\u001b[0;34m(*args, **kwargs)\u001b[0m\n\u001b[1;32m    148\u001b[0m filtered_tb \u001b[38;5;241m=\u001b[39m \u001b[38;5;28;01mNone\u001b[39;00m\n\u001b[1;32m    149\u001b[0m \u001b[38;5;28;01mtry\u001b[39;00m:\n\u001b[0;32m--> 150\u001b[0m   \u001b[38;5;28;01mreturn\u001b[39;00m \u001b[43mfn\u001b[49m\u001b[43m(\u001b[49m\u001b[38;5;241;43m*\u001b[39;49m\u001b[43margs\u001b[49m\u001b[43m,\u001b[49m\u001b[43m \u001b[49m\u001b[38;5;241;43m*\u001b[39;49m\u001b[38;5;241;43m*\u001b[39;49m\u001b[43mkwargs\u001b[49m\u001b[43m)\u001b[49m\n\u001b[1;32m    151\u001b[0m \u001b[38;5;28;01mexcept\u001b[39;00m \u001b[38;5;167;01mException\u001b[39;00m \u001b[38;5;28;01mas\u001b[39;00m e:\n\u001b[1;32m    152\u001b[0m   filtered_tb \u001b[38;5;241m=\u001b[39m _process_traceback_frames(e\u001b[38;5;241m.\u001b[39m__traceback__)\n",
      "File \u001b[0;32m~/anaconda3/envs/cs230projects/lib/python3.8/site-packages/tensorflow/python/eager/def_function.py:915\u001b[0m, in \u001b[0;36mFunction.__call__\u001b[0;34m(self, *args, **kwds)\u001b[0m\n\u001b[1;32m    912\u001b[0m compiler \u001b[38;5;241m=\u001b[39m \u001b[38;5;124m\"\u001b[39m\u001b[38;5;124mxla\u001b[39m\u001b[38;5;124m\"\u001b[39m \u001b[38;5;28;01mif\u001b[39;00m \u001b[38;5;28mself\u001b[39m\u001b[38;5;241m.\u001b[39m_jit_compile \u001b[38;5;28;01melse\u001b[39;00m \u001b[38;5;124m\"\u001b[39m\u001b[38;5;124mnonXla\u001b[39m\u001b[38;5;124m\"\u001b[39m\n\u001b[1;32m    914\u001b[0m \u001b[38;5;28;01mwith\u001b[39;00m OptionalXlaContext(\u001b[38;5;28mself\u001b[39m\u001b[38;5;241m.\u001b[39m_jit_compile):\n\u001b[0;32m--> 915\u001b[0m   result \u001b[38;5;241m=\u001b[39m \u001b[38;5;28;43mself\u001b[39;49m\u001b[38;5;241;43m.\u001b[39;49m\u001b[43m_call\u001b[49m\u001b[43m(\u001b[49m\u001b[38;5;241;43m*\u001b[39;49m\u001b[43margs\u001b[49m\u001b[43m,\u001b[49m\u001b[43m \u001b[49m\u001b[38;5;241;43m*\u001b[39;49m\u001b[38;5;241;43m*\u001b[39;49m\u001b[43mkwds\u001b[49m\u001b[43m)\u001b[49m\n\u001b[1;32m    917\u001b[0m new_tracing_count \u001b[38;5;241m=\u001b[39m \u001b[38;5;28mself\u001b[39m\u001b[38;5;241m.\u001b[39mexperimental_get_tracing_count()\n\u001b[1;32m    918\u001b[0m without_tracing \u001b[38;5;241m=\u001b[39m (tracing_count \u001b[38;5;241m==\u001b[39m new_tracing_count)\n",
      "File \u001b[0;32m~/anaconda3/envs/cs230projects/lib/python3.8/site-packages/tensorflow/python/eager/def_function.py:947\u001b[0m, in \u001b[0;36mFunction._call\u001b[0;34m(self, *args, **kwds)\u001b[0m\n\u001b[1;32m    944\u001b[0m   \u001b[38;5;28mself\u001b[39m\u001b[38;5;241m.\u001b[39m_lock\u001b[38;5;241m.\u001b[39mrelease()\n\u001b[1;32m    945\u001b[0m   \u001b[38;5;66;03m# In this case we have created variables on the first call, so we run the\u001b[39;00m\n\u001b[1;32m    946\u001b[0m   \u001b[38;5;66;03m# defunned version which is guaranteed to never create variables.\u001b[39;00m\n\u001b[0;32m--> 947\u001b[0m   \u001b[38;5;28;01mreturn\u001b[39;00m \u001b[38;5;28;43mself\u001b[39;49m\u001b[38;5;241;43m.\u001b[39;49m\u001b[43m_stateless_fn\u001b[49m\u001b[43m(\u001b[49m\u001b[38;5;241;43m*\u001b[39;49m\u001b[43margs\u001b[49m\u001b[43m,\u001b[49m\u001b[43m \u001b[49m\u001b[38;5;241;43m*\u001b[39;49m\u001b[38;5;241;43m*\u001b[39;49m\u001b[43mkwds\u001b[49m\u001b[43m)\u001b[49m  \u001b[38;5;66;03m# pylint: disable=not-callable\u001b[39;00m\n\u001b[1;32m    948\u001b[0m \u001b[38;5;28;01melif\u001b[39;00m \u001b[38;5;28mself\u001b[39m\u001b[38;5;241m.\u001b[39m_stateful_fn \u001b[38;5;129;01mis\u001b[39;00m \u001b[38;5;129;01mnot\u001b[39;00m \u001b[38;5;28;01mNone\u001b[39;00m:\n\u001b[1;32m    949\u001b[0m   \u001b[38;5;66;03m# Release the lock early so that multiple threads can perform the call\u001b[39;00m\n\u001b[1;32m    950\u001b[0m   \u001b[38;5;66;03m# in parallel.\u001b[39;00m\n\u001b[1;32m    951\u001b[0m   \u001b[38;5;28mself\u001b[39m\u001b[38;5;241m.\u001b[39m_lock\u001b[38;5;241m.\u001b[39mrelease()\n",
      "File \u001b[0;32m~/anaconda3/envs/cs230projects/lib/python3.8/site-packages/tensorflow/python/eager/function.py:2496\u001b[0m, in \u001b[0;36mFunction.__call__\u001b[0;34m(self, *args, **kwargs)\u001b[0m\n\u001b[1;32m   2493\u001b[0m \u001b[38;5;28;01mwith\u001b[39;00m \u001b[38;5;28mself\u001b[39m\u001b[38;5;241m.\u001b[39m_lock:\n\u001b[1;32m   2494\u001b[0m   (graph_function,\n\u001b[1;32m   2495\u001b[0m    filtered_flat_args) \u001b[38;5;241m=\u001b[39m \u001b[38;5;28mself\u001b[39m\u001b[38;5;241m.\u001b[39m_maybe_define_function(args, kwargs)\n\u001b[0;32m-> 2496\u001b[0m \u001b[38;5;28;01mreturn\u001b[39;00m \u001b[43mgraph_function\u001b[49m\u001b[38;5;241;43m.\u001b[39;49m\u001b[43m_call_flat\u001b[49m\u001b[43m(\u001b[49m\n\u001b[1;32m   2497\u001b[0m \u001b[43m    \u001b[49m\u001b[43mfiltered_flat_args\u001b[49m\u001b[43m,\u001b[49m\u001b[43m \u001b[49m\u001b[43mcaptured_inputs\u001b[49m\u001b[38;5;241;43m=\u001b[39;49m\u001b[43mgraph_function\u001b[49m\u001b[38;5;241;43m.\u001b[39;49m\u001b[43mcaptured_inputs\u001b[49m\u001b[43m)\u001b[49m\n",
      "File \u001b[0;32m~/anaconda3/envs/cs230projects/lib/python3.8/site-packages/tensorflow/python/eager/function.py:1862\u001b[0m, in \u001b[0;36mConcreteFunction._call_flat\u001b[0;34m(self, args, captured_inputs, cancellation_manager)\u001b[0m\n\u001b[1;32m   1858\u001b[0m possible_gradient_type \u001b[38;5;241m=\u001b[39m gradients_util\u001b[38;5;241m.\u001b[39mPossibleTapeGradientTypes(args)\n\u001b[1;32m   1859\u001b[0m \u001b[38;5;28;01mif\u001b[39;00m (possible_gradient_type \u001b[38;5;241m==\u001b[39m gradients_util\u001b[38;5;241m.\u001b[39mPOSSIBLE_GRADIENT_TYPES_NONE\n\u001b[1;32m   1860\u001b[0m     \u001b[38;5;129;01mand\u001b[39;00m executing_eagerly):\n\u001b[1;32m   1861\u001b[0m   \u001b[38;5;66;03m# No tape is watching; skip to running the function.\u001b[39;00m\n\u001b[0;32m-> 1862\u001b[0m   \u001b[38;5;28;01mreturn\u001b[39;00m \u001b[38;5;28mself\u001b[39m\u001b[38;5;241m.\u001b[39m_build_call_outputs(\u001b[38;5;28;43mself\u001b[39;49m\u001b[38;5;241;43m.\u001b[39;49m\u001b[43m_inference_function\u001b[49m\u001b[38;5;241;43m.\u001b[39;49m\u001b[43mcall\u001b[49m\u001b[43m(\u001b[49m\n\u001b[1;32m   1863\u001b[0m \u001b[43m      \u001b[49m\u001b[43mctx\u001b[49m\u001b[43m,\u001b[49m\u001b[43m \u001b[49m\u001b[43margs\u001b[49m\u001b[43m,\u001b[49m\u001b[43m \u001b[49m\u001b[43mcancellation_manager\u001b[49m\u001b[38;5;241;43m=\u001b[39;49m\u001b[43mcancellation_manager\u001b[49m\u001b[43m)\u001b[49m)\n\u001b[1;32m   1864\u001b[0m forward_backward \u001b[38;5;241m=\u001b[39m \u001b[38;5;28mself\u001b[39m\u001b[38;5;241m.\u001b[39m_select_forward_and_backward_functions(\n\u001b[1;32m   1865\u001b[0m     args,\n\u001b[1;32m   1866\u001b[0m     possible_gradient_type,\n\u001b[1;32m   1867\u001b[0m     executing_eagerly)\n\u001b[1;32m   1868\u001b[0m forward_function, args_with_tangents \u001b[38;5;241m=\u001b[39m forward_backward\u001b[38;5;241m.\u001b[39mforward()\n",
      "File \u001b[0;32m~/anaconda3/envs/cs230projects/lib/python3.8/site-packages/tensorflow/python/eager/function.py:499\u001b[0m, in \u001b[0;36m_EagerDefinedFunction.call\u001b[0;34m(self, ctx, args, cancellation_manager)\u001b[0m\n\u001b[1;32m    497\u001b[0m \u001b[38;5;28;01mwith\u001b[39;00m _InterpolateFunctionError(\u001b[38;5;28mself\u001b[39m):\n\u001b[1;32m    498\u001b[0m   \u001b[38;5;28;01mif\u001b[39;00m cancellation_manager \u001b[38;5;129;01mis\u001b[39;00m \u001b[38;5;28;01mNone\u001b[39;00m:\n\u001b[0;32m--> 499\u001b[0m     outputs \u001b[38;5;241m=\u001b[39m \u001b[43mexecute\u001b[49m\u001b[38;5;241;43m.\u001b[39;49m\u001b[43mexecute\u001b[49m\u001b[43m(\u001b[49m\n\u001b[1;32m    500\u001b[0m \u001b[43m        \u001b[49m\u001b[38;5;28;43mstr\u001b[39;49m\u001b[43m(\u001b[49m\u001b[38;5;28;43mself\u001b[39;49m\u001b[38;5;241;43m.\u001b[39;49m\u001b[43msignature\u001b[49m\u001b[38;5;241;43m.\u001b[39;49m\u001b[43mname\u001b[49m\u001b[43m)\u001b[49m\u001b[43m,\u001b[49m\n\u001b[1;32m    501\u001b[0m \u001b[43m        \u001b[49m\u001b[43mnum_outputs\u001b[49m\u001b[38;5;241;43m=\u001b[39;49m\u001b[38;5;28;43mself\u001b[39;49m\u001b[38;5;241;43m.\u001b[39;49m\u001b[43m_num_outputs\u001b[49m\u001b[43m,\u001b[49m\n\u001b[1;32m    502\u001b[0m \u001b[43m        \u001b[49m\u001b[43minputs\u001b[49m\u001b[38;5;241;43m=\u001b[39;49m\u001b[43margs\u001b[49m\u001b[43m,\u001b[49m\n\u001b[1;32m    503\u001b[0m \u001b[43m        \u001b[49m\u001b[43mattrs\u001b[49m\u001b[38;5;241;43m=\u001b[39;49m\u001b[43mattrs\u001b[49m\u001b[43m,\u001b[49m\n\u001b[1;32m    504\u001b[0m \u001b[43m        \u001b[49m\u001b[43mctx\u001b[49m\u001b[38;5;241;43m=\u001b[39;49m\u001b[43mctx\u001b[49m\u001b[43m)\u001b[49m\n\u001b[1;32m    505\u001b[0m   \u001b[38;5;28;01melse\u001b[39;00m:\n\u001b[1;32m    506\u001b[0m     outputs \u001b[38;5;241m=\u001b[39m execute\u001b[38;5;241m.\u001b[39mexecute_with_cancellation(\n\u001b[1;32m    507\u001b[0m         \u001b[38;5;28mstr\u001b[39m(\u001b[38;5;28mself\u001b[39m\u001b[38;5;241m.\u001b[39msignature\u001b[38;5;241m.\u001b[39mname),\n\u001b[1;32m    508\u001b[0m         num_outputs\u001b[38;5;241m=\u001b[39m\u001b[38;5;28mself\u001b[39m\u001b[38;5;241m.\u001b[39m_num_outputs,\n\u001b[0;32m   (...)\u001b[0m\n\u001b[1;32m    511\u001b[0m         ctx\u001b[38;5;241m=\u001b[39mctx,\n\u001b[1;32m    512\u001b[0m         cancellation_manager\u001b[38;5;241m=\u001b[39mcancellation_manager)\n",
      "File \u001b[0;32m~/anaconda3/envs/cs230projects/lib/python3.8/site-packages/tensorflow/python/eager/execute.py:54\u001b[0m, in \u001b[0;36mquick_execute\u001b[0;34m(op_name, num_outputs, inputs, attrs, ctx, name)\u001b[0m\n\u001b[1;32m     52\u001b[0m \u001b[38;5;28;01mtry\u001b[39;00m:\n\u001b[1;32m     53\u001b[0m   ctx\u001b[38;5;241m.\u001b[39mensure_initialized()\n\u001b[0;32m---> 54\u001b[0m   tensors \u001b[38;5;241m=\u001b[39m \u001b[43mpywrap_tfe\u001b[49m\u001b[38;5;241;43m.\u001b[39;49m\u001b[43mTFE_Py_Execute\u001b[49m\u001b[43m(\u001b[49m\u001b[43mctx\u001b[49m\u001b[38;5;241;43m.\u001b[39;49m\u001b[43m_handle\u001b[49m\u001b[43m,\u001b[49m\u001b[43m \u001b[49m\u001b[43mdevice_name\u001b[49m\u001b[43m,\u001b[49m\u001b[43m \u001b[49m\u001b[43mop_name\u001b[49m\u001b[43m,\u001b[49m\n\u001b[1;32m     55\u001b[0m \u001b[43m                                      \u001b[49m\u001b[43minputs\u001b[49m\u001b[43m,\u001b[49m\u001b[43m \u001b[49m\u001b[43mattrs\u001b[49m\u001b[43m,\u001b[49m\u001b[43m \u001b[49m\u001b[43mnum_outputs\u001b[49m\u001b[43m)\u001b[49m\n\u001b[1;32m     56\u001b[0m \u001b[38;5;28;01mexcept\u001b[39;00m core\u001b[38;5;241m.\u001b[39m_NotOkStatusException \u001b[38;5;28;01mas\u001b[39;00m e:\n\u001b[1;32m     57\u001b[0m   \u001b[38;5;28;01mif\u001b[39;00m name \u001b[38;5;129;01mis\u001b[39;00m \u001b[38;5;129;01mnot\u001b[39;00m \u001b[38;5;28;01mNone\u001b[39;00m:\n",
      "\u001b[0;31mKeyboardInterrupt\u001b[0m: "
     ]
    }
   ],
   "source": [
    "# lstm model\n",
    "import random\n",
    "random.seed(42)\n",
    "from numpy import mean\n",
    "from numpy import std\n",
    "from numpy import dstack\n",
    "from pandas import read_csv\n",
    "from keras.models import Sequential\n",
    "from keras.layers import Dense\n",
    "from keras.layers import Flatten\n",
    "from keras.layers import Dropout\n",
    "from keras.layers import LSTM\n",
    "from keras.utils import to_categorical\n",
    "from matplotlib import pyplot\n",
    "from sklearn.model_selection import train_test_split \n",
    "from sklearn.preprocessing import LabelEncoder\n",
    "from keras.utils import np_utils\n",
    " \n",
    "# load the dataset, returns train and test X and y elements\n",
    "def load_dataset(prefix=''):\n",
    "    x = []\n",
    "    y = []\n",
    "    dir = ['Bhuj','Padam','Shav','Tada','Trik','Vriksh']\n",
    "    for i in dir:\n",
    "        dir_list = os.listdir('Yoga_data_large_labeled/'+i)\n",
    "        if '.ipynb_checkpoints' in dir_list:\n",
    "            dir_list.remove('.ipynb_checkpoints')\n",
    "        for j in dir_list:\n",
    "            data =  pd.read_csv('Yoga_data_large_labeled/'+i+'/'+j)\n",
    "            y.append(data['yoga'][0])\n",
    "            data = data.drop('yoga',axis=1)\n",
    "            x.append(data.values)\n",
    "    \n",
    "    X_train, X_test, Y_train, Y_test = train_test_split(x, y, test_size=0.20, random_state=42)\n",
    "    X_train  = tf.convert_to_tensor(X_train)\n",
    "    Y_train  = tf.convert_to_tensor(Y_train)\n",
    "    X_test  = tf.convert_to_tensor(X_test)\n",
    "    Y_test  = tf.convert_to_tensor(Y_test)\n",
    "    \n",
    "    #encode the output\n",
    "    encoder = LabelEncoder()\n",
    "    encoder.fit(Y_train)\n",
    "    Y_train = encoder.transform(Y_train)\n",
    "    Y_train = np_utils.to_categorical(Y_train)\n",
    "    \n",
    "    encoder = LabelEncoder()\n",
    "    encoder.fit(Y_test)\n",
    "    Y_test = encoder.transform(Y_test)\n",
    "    Y_test = np_utils.to_categorical(Y_test)\n",
    "    \n",
    "    X_train = X_train/360\n",
    "    X_test = X_test/360\n",
    "    \n",
    "    \n",
    "    return X_train, Y_train, X_test, Y_test\n",
    " \n",
    "# fit and evaluate a model\n",
    "def evaluate_model(trainX, trainy, testX, testy):\n",
    "     verbose, epochs, batch_size = 0, 100, 64\n",
    "     n_timesteps, n_features, n_outputs = trainX.shape[1], trainX.shape[2], trainy.shape[1]\n",
    "     model = Sequential()\n",
    "     model.add(LSTM(30, input_shape=(n_timesteps,n_features),activation='relu',return_sequences=True))\n",
    "     model.add(Dropout(0.5))\n",
    "     model.add(LSTM(30,activation='relu'))\n",
    "     model.add(Dropout(0.5))\n",
    "     model.add(Dense(100, activation='relu'))\n",
    "     model.add(Dense(n_outputs, activation='softmax'))\n",
    "     model.compile(loss='categorical_crossentropy', optimizer='adam', metrics=['accuracy'])\n",
    "     # fit network\n",
    "     model.fit(trainX, trainy, epochs=epochs, batch_size=batch_size, verbose=verbose)\n",
    "     # evaluate model\n",
    "     _, accuracy = model.evaluate(testX, testy, batch_size=batch_size, verbose=0)\n",
    "     return accuracy\n",
    " \n",
    "# summarize scores\n",
    "def summarize_results(scores):\n",
    "     print(scores)\n",
    "     m, s = mean(scores), std(scores)\n",
    "     print('Accuracy: %.3f%% (+/-%.3f)' % (m, s))\n",
    " \n",
    "# run an experiment\n",
    "def run_experiment(repeats=10):\n",
    "     # load data\n",
    "     trainX, trainy, testX, testy = load_dataset()\n",
    "     # repeat experiment\n",
    "     scores = list()\n",
    "     for r in range(repeats):\n",
    "         score = evaluate_model(trainX, trainy, testX, testy)\n",
    "         score = score * 100.0\n",
    "         print('>#%d: %.3f' % (r+1, score))\n",
    "         scores.append(score)\n",
    "     # summarize results\n",
    "     summarize_results(scores)\n",
    " \n",
    "# run the experiment\n",
    "run_experiment()"
   ]
  },
  {
   "cell_type": "code",
   "execution_count": null,
   "id": "d1a4014f-131f-4287-891d-43eb8cb5f2d5",
   "metadata": {},
   "outputs": [],
   "source": []
  },
  {
   "cell_type": "code",
   "execution_count": null,
   "id": "ed5205c2-f1e2-4caa-8d94-b69933d4cb6d",
   "metadata": {},
   "outputs": [],
   "source": []
  },
  {
   "cell_type": "code",
   "execution_count": null,
   "id": "1141ccfb-464d-4941-bcd2-13ee6dc1aef2",
   "metadata": {},
   "outputs": [],
   "source": []
  },
  {
   "cell_type": "code",
   "execution_count": null,
   "id": "85958bdb-3f93-4d58-b4c4-09be0b102525",
   "metadata": {},
   "outputs": [],
   "source": []
  }
 ],
 "metadata": {
  "kernelspec": {
   "display_name": "Python 3 (ipykernel)",
   "language": "python",
   "name": "python3"
  },
  "language_info": {
   "codemirror_mode": {
    "name": "ipython",
    "version": 3
   },
   "file_extension": ".py",
   "mimetype": "text/x-python",
   "name": "python",
   "nbconvert_exporter": "python",
   "pygments_lexer": "ipython3",
   "version": "3.8.13"
  }
 },
 "nbformat": 4,
 "nbformat_minor": 5
}
