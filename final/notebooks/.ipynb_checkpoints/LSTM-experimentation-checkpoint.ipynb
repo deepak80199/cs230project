{
 "cells": [
  {
   "cell_type": "code",
   "execution_count": 2,
   "id": "acf14326-99ad-4ef7-9c01-89d6ffb80ccf",
   "metadata": {},
   "outputs": [
    {
     "name": "stderr",
     "output_type": "stream",
     "text": [
      "2022-11-15 00:09:33.204258: I tensorflow/core/platform/cpu_feature_guard.cc:193] This TensorFlow binary is optimized with oneAPI Deep Neural Network Library (oneDNN) to use the following CPU instructions in performance-critical operations:  AVX2 FMA\n",
      "To enable them in other operations, rebuild TensorFlow with the appropriate compiler flags.\n",
      "2022-11-15 00:09:33.333291: W tensorflow/stream_executor/platform/default/dso_loader.cc:64] Could not load dynamic library 'libcudart.so.11.0'; dlerror: libcudart.so.11.0: cannot open shared object file: No such file or directory\n",
      "2022-11-15 00:09:33.333317: I tensorflow/stream_executor/cuda/cudart_stub.cc:29] Ignore above cudart dlerror if you do not have a GPU set up on your machine.\n",
      "2022-11-15 00:09:33.360541: E tensorflow/stream_executor/cuda/cuda_blas.cc:2981] Unable to register cuBLAS factory: Attempting to register factory for plugin cuBLAS when one has already been registered\n",
      "2022-11-15 00:09:34.840243: W tensorflow/stream_executor/platform/default/dso_loader.cc:64] Could not load dynamic library 'libnvinfer.so.7'; dlerror: libnvinfer.so.7: cannot open shared object file: No such file or directory\n",
      "2022-11-15 00:09:34.840321: W tensorflow/stream_executor/platform/default/dso_loader.cc:64] Could not load dynamic library 'libnvinfer_plugin.so.7'; dlerror: libnvinfer_plugin.so.7: cannot open shared object file: No such file or directory\n",
      "2022-11-15 00:09:34.840329: W tensorflow/compiler/tf2tensorrt/utils/py_utils.cc:38] TF-TRT Warning: Cannot dlopen some TensorRT libraries. If you would like to use Nvidia GPU with TensorRT, please make sure the missing libraries mentioned above are installed properly.\n"
     ]
    }
   ],
   "source": [
    "import tensorflow as tf"
   ]
  },
  {
   "cell_type": "code",
   "execution_count": 3,
   "id": "7b42b0fd-8aff-4b05-aff4-bf2f3dcdba3b",
   "metadata": {},
   "outputs": [
    {
     "data": {
      "text/plain": [
       "'2.10.0'"
      ]
     },
     "execution_count": 3,
     "metadata": {},
     "output_type": "execute_result"
    }
   ],
   "source": [
    "tf.__version__"
   ]
  },
  {
   "cell_type": "markdown",
   "id": "467f2785-bbb4-4a48-b563-be10cd35f765",
   "metadata": {},
   "source": [
    "## Load data"
   ]
  },
  {
   "cell_type": "code",
   "execution_count": 13,
   "id": "eb830143-03c5-4458-b15a-6f5928516a6d",
   "metadata": {},
   "outputs": [
    {
     "data": {
      "text/html": [
       "<div>\n",
       "<style scoped>\n",
       "    .dataframe tbody tr th:only-of-type {\n",
       "        vertical-align: middle;\n",
       "    }\n",
       "\n",
       "    .dataframe tbody tr th {\n",
       "        vertical-align: top;\n",
       "    }\n",
       "\n",
       "    .dataframe thead th {\n",
       "        text-align: right;\n",
       "    }\n",
       "</style>\n",
       "<table border=\"1\" class=\"dataframe\">\n",
       "  <thead>\n",
       "    <tr style=\"text-align: right;\">\n",
       "      <th></th>\n",
       "      <th>leftWES</th>\n",
       "      <th>leftESH</th>\n",
       "      <th>leftSHK</th>\n",
       "      <th>leftHKA</th>\n",
       "      <th>rightWES</th>\n",
       "      <th>rightESH</th>\n",
       "      <th>rightSHK</th>\n",
       "      <th>rightHKA</th>\n",
       "    </tr>\n",
       "  </thead>\n",
       "  <tbody>\n",
       "    <tr>\n",
       "      <th>0</th>\n",
       "      <td>165.164419</td>\n",
       "      <td>15.643895</td>\n",
       "      <td>172.122754</td>\n",
       "      <td>177.580663</td>\n",
       "      <td>159.439589</td>\n",
       "      <td>11.808326</td>\n",
       "      <td>157.260863</td>\n",
       "      <td>148.319193</td>\n",
       "    </tr>\n",
       "    <tr>\n",
       "      <th>1</th>\n",
       "      <td>160.128458</td>\n",
       "      <td>18.462811</td>\n",
       "      <td>171.070800</td>\n",
       "      <td>178.967895</td>\n",
       "      <td>155.117873</td>\n",
       "      <td>12.662811</td>\n",
       "      <td>145.145763</td>\n",
       "      <td>129.251096</td>\n",
       "    </tr>\n",
       "    <tr>\n",
       "      <th>2</th>\n",
       "      <td>161.984016</td>\n",
       "      <td>17.984141</td>\n",
       "      <td>171.266872</td>\n",
       "      <td>179.457232</td>\n",
       "      <td>152.511683</td>\n",
       "      <td>13.806346</td>\n",
       "      <td>136.029230</td>\n",
       "      <td>120.040313</td>\n",
       "    </tr>\n",
       "    <tr>\n",
       "      <th>3</th>\n",
       "      <td>161.309173</td>\n",
       "      <td>18.486387</td>\n",
       "      <td>171.299619</td>\n",
       "      <td>179.986677</td>\n",
       "      <td>150.681952</td>\n",
       "      <td>13.769877</td>\n",
       "      <td>119.618289</td>\n",
       "      <td>101.752941</td>\n",
       "    </tr>\n",
       "    <tr>\n",
       "      <th>4</th>\n",
       "      <td>161.901137</td>\n",
       "      <td>18.307466</td>\n",
       "      <td>171.113986</td>\n",
       "      <td>179.925532</td>\n",
       "      <td>148.932263</td>\n",
       "      <td>12.784818</td>\n",
       "      <td>103.436826</td>\n",
       "      <td>82.631432</td>\n",
       "    </tr>\n",
       "    <tr>\n",
       "      <th>5</th>\n",
       "      <td>161.949413</td>\n",
       "      <td>18.652468</td>\n",
       "      <td>170.396862</td>\n",
       "      <td>179.539319</td>\n",
       "      <td>148.684361</td>\n",
       "      <td>13.499778</td>\n",
       "      <td>105.981633</td>\n",
       "      <td>84.855361</td>\n",
       "    </tr>\n",
       "    <tr>\n",
       "      <th>6</th>\n",
       "      <td>164.090353</td>\n",
       "      <td>16.332102</td>\n",
       "      <td>171.872652</td>\n",
       "      <td>179.404160</td>\n",
       "      <td>143.952563</td>\n",
       "      <td>15.576404</td>\n",
       "      <td>85.912603</td>\n",
       "      <td>65.864531</td>\n",
       "    </tr>\n",
       "    <tr>\n",
       "      <th>7</th>\n",
       "      <td>165.932150</td>\n",
       "      <td>15.541703</td>\n",
       "      <td>171.885795</td>\n",
       "      <td>178.662691</td>\n",
       "      <td>148.070958</td>\n",
       "      <td>13.407853</td>\n",
       "      <td>86.078583</td>\n",
       "      <td>59.377491</td>\n",
       "    </tr>\n",
       "    <tr>\n",
       "      <th>8</th>\n",
       "      <td>161.976999</td>\n",
       "      <td>16.802934</td>\n",
       "      <td>170.803614</td>\n",
       "      <td>178.580115</td>\n",
       "      <td>152.112193</td>\n",
       "      <td>10.265409</td>\n",
       "      <td>80.288647</td>\n",
       "      <td>52.791914</td>\n",
       "    </tr>\n",
       "    <tr>\n",
       "      <th>9</th>\n",
       "      <td>164.271508</td>\n",
       "      <td>15.906116</td>\n",
       "      <td>170.888628</td>\n",
       "      <td>179.318270</td>\n",
       "      <td>157.327750</td>\n",
       "      <td>9.256602</td>\n",
       "      <td>83.081094</td>\n",
       "      <td>54.027581</td>\n",
       "    </tr>\n",
       "    <tr>\n",
       "      <th>10</th>\n",
       "      <td>164.558146</td>\n",
       "      <td>15.987818</td>\n",
       "      <td>170.287411</td>\n",
       "      <td>179.567287</td>\n",
       "      <td>159.906552</td>\n",
       "      <td>8.131258</td>\n",
       "      <td>85.826513</td>\n",
       "      <td>56.802490</td>\n",
       "    </tr>\n",
       "    <tr>\n",
       "      <th>11</th>\n",
       "      <td>162.712609</td>\n",
       "      <td>17.262143</td>\n",
       "      <td>168.320042</td>\n",
       "      <td>179.589377</td>\n",
       "      <td>163.501031</td>\n",
       "      <td>6.370532</td>\n",
       "      <td>92.465729</td>\n",
       "      <td>62.748790</td>\n",
       "    </tr>\n",
       "    <tr>\n",
       "      <th>12</th>\n",
       "      <td>162.510010</td>\n",
       "      <td>16.753542</td>\n",
       "      <td>169.278670</td>\n",
       "      <td>179.736176</td>\n",
       "      <td>168.121021</td>\n",
       "      <td>5.562638</td>\n",
       "      <td>95.567844</td>\n",
       "      <td>64.983685</td>\n",
       "    </tr>\n",
       "    <tr>\n",
       "      <th>13</th>\n",
       "      <td>163.274339</td>\n",
       "      <td>16.354180</td>\n",
       "      <td>170.267540</td>\n",
       "      <td>179.405995</td>\n",
       "      <td>171.941659</td>\n",
       "      <td>4.671625</td>\n",
       "      <td>100.939184</td>\n",
       "      <td>69.526756</td>\n",
       "    </tr>\n",
       "    <tr>\n",
       "      <th>14</th>\n",
       "      <td>162.447134</td>\n",
       "      <td>16.721535</td>\n",
       "      <td>170.420967</td>\n",
       "      <td>179.518615</td>\n",
       "      <td>175.379028</td>\n",
       "      <td>4.071739</td>\n",
       "      <td>96.278326</td>\n",
       "      <td>63.486086</td>\n",
       "    </tr>\n",
       "    <tr>\n",
       "      <th>15</th>\n",
       "      <td>162.144661</td>\n",
       "      <td>17.374562</td>\n",
       "      <td>170.301378</td>\n",
       "      <td>179.600330</td>\n",
       "      <td>176.967148</td>\n",
       "      <td>4.168363</td>\n",
       "      <td>95.497799</td>\n",
       "      <td>62.116186</td>\n",
       "    </tr>\n",
       "    <tr>\n",
       "      <th>16</th>\n",
       "      <td>161.405466</td>\n",
       "      <td>17.700010</td>\n",
       "      <td>170.394820</td>\n",
       "      <td>179.553314</td>\n",
       "      <td>178.139271</td>\n",
       "      <td>4.501055</td>\n",
       "      <td>92.652907</td>\n",
       "      <td>59.216669</td>\n",
       "    </tr>\n",
       "    <tr>\n",
       "      <th>17</th>\n",
       "      <td>160.190646</td>\n",
       "      <td>18.983673</td>\n",
       "      <td>170.329835</td>\n",
       "      <td>179.150548</td>\n",
       "      <td>179.396274</td>\n",
       "      <td>3.952710</td>\n",
       "      <td>94.220878</td>\n",
       "      <td>60.778910</td>\n",
       "    </tr>\n",
       "    <tr>\n",
       "      <th>18</th>\n",
       "      <td>160.196324</td>\n",
       "      <td>19.381260</td>\n",
       "      <td>170.656395</td>\n",
       "      <td>179.052467</td>\n",
       "      <td>179.681095</td>\n",
       "      <td>3.862266</td>\n",
       "      <td>92.684399</td>\n",
       "      <td>60.810210</td>\n",
       "    </tr>\n",
       "    <tr>\n",
       "      <th>19</th>\n",
       "      <td>160.441048</td>\n",
       "      <td>19.098829</td>\n",
       "      <td>170.963379</td>\n",
       "      <td>178.939964</td>\n",
       "      <td>179.717727</td>\n",
       "      <td>4.100492</td>\n",
       "      <td>90.190558</td>\n",
       "      <td>59.261753</td>\n",
       "    </tr>\n",
       "    <tr>\n",
       "      <th>20</th>\n",
       "      <td>161.651993</td>\n",
       "      <td>18.114791</td>\n",
       "      <td>172.071713</td>\n",
       "      <td>178.195096</td>\n",
       "      <td>179.392490</td>\n",
       "      <td>4.346258</td>\n",
       "      <td>89.332755</td>\n",
       "      <td>58.108283</td>\n",
       "    </tr>\n",
       "    <tr>\n",
       "      <th>21</th>\n",
       "      <td>162.464275</td>\n",
       "      <td>17.875000</td>\n",
       "      <td>171.737088</td>\n",
       "      <td>178.395720</td>\n",
       "      <td>178.975980</td>\n",
       "      <td>4.057397</td>\n",
       "      <td>87.087684</td>\n",
       "      <td>56.371874</td>\n",
       "    </tr>\n",
       "    <tr>\n",
       "      <th>22</th>\n",
       "      <td>163.264948</td>\n",
       "      <td>17.570764</td>\n",
       "      <td>171.216252</td>\n",
       "      <td>178.272602</td>\n",
       "      <td>179.258089</td>\n",
       "      <td>3.854191</td>\n",
       "      <td>88.367992</td>\n",
       "      <td>56.984673</td>\n",
       "    </tr>\n",
       "    <tr>\n",
       "      <th>23</th>\n",
       "      <td>164.584504</td>\n",
       "      <td>16.669427</td>\n",
       "      <td>171.465431</td>\n",
       "      <td>177.825158</td>\n",
       "      <td>179.375695</td>\n",
       "      <td>4.070815</td>\n",
       "      <td>87.641044</td>\n",
       "      <td>56.318084</td>\n",
       "    </tr>\n",
       "    <tr>\n",
       "      <th>24</th>\n",
       "      <td>165.595103</td>\n",
       "      <td>16.167101</td>\n",
       "      <td>170.843834</td>\n",
       "      <td>178.137270</td>\n",
       "      <td>179.143586</td>\n",
       "      <td>4.960630</td>\n",
       "      <td>86.469961</td>\n",
       "      <td>55.030857</td>\n",
       "    </tr>\n",
       "    <tr>\n",
       "      <th>25</th>\n",
       "      <td>164.987891</td>\n",
       "      <td>16.168153</td>\n",
       "      <td>170.605249</td>\n",
       "      <td>177.916949</td>\n",
       "      <td>178.657412</td>\n",
       "      <td>5.586082</td>\n",
       "      <td>84.599659</td>\n",
       "      <td>54.183617</td>\n",
       "    </tr>\n",
       "    <tr>\n",
       "      <th>26</th>\n",
       "      <td>163.967989</td>\n",
       "      <td>16.807095</td>\n",
       "      <td>170.375686</td>\n",
       "      <td>177.830243</td>\n",
       "      <td>179.280929</td>\n",
       "      <td>6.696049</td>\n",
       "      <td>78.979440</td>\n",
       "      <td>50.595152</td>\n",
       "    </tr>\n",
       "    <tr>\n",
       "      <th>27</th>\n",
       "      <td>163.424428</td>\n",
       "      <td>16.800636</td>\n",
       "      <td>170.612092</td>\n",
       "      <td>177.596564</td>\n",
       "      <td>178.623566</td>\n",
       "      <td>6.667698</td>\n",
       "      <td>73.752449</td>\n",
       "      <td>47.151021</td>\n",
       "    </tr>\n",
       "    <tr>\n",
       "      <th>28</th>\n",
       "      <td>163.092198</td>\n",
       "      <td>16.658888</td>\n",
       "      <td>171.207585</td>\n",
       "      <td>177.403370</td>\n",
       "      <td>179.763637</td>\n",
       "      <td>7.777620</td>\n",
       "      <td>72.170921</td>\n",
       "      <td>46.934040</td>\n",
       "    </tr>\n",
       "    <tr>\n",
       "      <th>29</th>\n",
       "      <td>162.992287</td>\n",
       "      <td>17.657288</td>\n",
       "      <td>169.705761</td>\n",
       "      <td>178.286732</td>\n",
       "      <td>179.101353</td>\n",
       "      <td>8.114298</td>\n",
       "      <td>72.660480</td>\n",
       "      <td>45.434352</td>\n",
       "    </tr>\n",
       "  </tbody>\n",
       "</table>\n",
       "</div>"
      ],
      "text/plain": [
       "       leftWES    leftESH     leftSHK     leftHKA    rightWES   rightESH  \\\n",
       "0   165.164419  15.643895  172.122754  177.580663  159.439589  11.808326   \n",
       "1   160.128458  18.462811  171.070800  178.967895  155.117873  12.662811   \n",
       "2   161.984016  17.984141  171.266872  179.457232  152.511683  13.806346   \n",
       "3   161.309173  18.486387  171.299619  179.986677  150.681952  13.769877   \n",
       "4   161.901137  18.307466  171.113986  179.925532  148.932263  12.784818   \n",
       "5   161.949413  18.652468  170.396862  179.539319  148.684361  13.499778   \n",
       "6   164.090353  16.332102  171.872652  179.404160  143.952563  15.576404   \n",
       "7   165.932150  15.541703  171.885795  178.662691  148.070958  13.407853   \n",
       "8   161.976999  16.802934  170.803614  178.580115  152.112193  10.265409   \n",
       "9   164.271508  15.906116  170.888628  179.318270  157.327750   9.256602   \n",
       "10  164.558146  15.987818  170.287411  179.567287  159.906552   8.131258   \n",
       "11  162.712609  17.262143  168.320042  179.589377  163.501031   6.370532   \n",
       "12  162.510010  16.753542  169.278670  179.736176  168.121021   5.562638   \n",
       "13  163.274339  16.354180  170.267540  179.405995  171.941659   4.671625   \n",
       "14  162.447134  16.721535  170.420967  179.518615  175.379028   4.071739   \n",
       "15  162.144661  17.374562  170.301378  179.600330  176.967148   4.168363   \n",
       "16  161.405466  17.700010  170.394820  179.553314  178.139271   4.501055   \n",
       "17  160.190646  18.983673  170.329835  179.150548  179.396274   3.952710   \n",
       "18  160.196324  19.381260  170.656395  179.052467  179.681095   3.862266   \n",
       "19  160.441048  19.098829  170.963379  178.939964  179.717727   4.100492   \n",
       "20  161.651993  18.114791  172.071713  178.195096  179.392490   4.346258   \n",
       "21  162.464275  17.875000  171.737088  178.395720  178.975980   4.057397   \n",
       "22  163.264948  17.570764  171.216252  178.272602  179.258089   3.854191   \n",
       "23  164.584504  16.669427  171.465431  177.825158  179.375695   4.070815   \n",
       "24  165.595103  16.167101  170.843834  178.137270  179.143586   4.960630   \n",
       "25  164.987891  16.168153  170.605249  177.916949  178.657412   5.586082   \n",
       "26  163.967989  16.807095  170.375686  177.830243  179.280929   6.696049   \n",
       "27  163.424428  16.800636  170.612092  177.596564  178.623566   6.667698   \n",
       "28  163.092198  16.658888  171.207585  177.403370  179.763637   7.777620   \n",
       "29  162.992287  17.657288  169.705761  178.286732  179.101353   8.114298   \n",
       "\n",
       "      rightSHK    rightHKA  \n",
       "0   157.260863  148.319193  \n",
       "1   145.145763  129.251096  \n",
       "2   136.029230  120.040313  \n",
       "3   119.618289  101.752941  \n",
       "4   103.436826   82.631432  \n",
       "5   105.981633   84.855361  \n",
       "6    85.912603   65.864531  \n",
       "7    86.078583   59.377491  \n",
       "8    80.288647   52.791914  \n",
       "9    83.081094   54.027581  \n",
       "10   85.826513   56.802490  \n",
       "11   92.465729   62.748790  \n",
       "12   95.567844   64.983685  \n",
       "13  100.939184   69.526756  \n",
       "14   96.278326   63.486086  \n",
       "15   95.497799   62.116186  \n",
       "16   92.652907   59.216669  \n",
       "17   94.220878   60.778910  \n",
       "18   92.684399   60.810210  \n",
       "19   90.190558   59.261753  \n",
       "20   89.332755   58.108283  \n",
       "21   87.087684   56.371874  \n",
       "22   88.367992   56.984673  \n",
       "23   87.641044   56.318084  \n",
       "24   86.469961   55.030857  \n",
       "25   84.599659   54.183617  \n",
       "26   78.979440   50.595152  \n",
       "27   73.752449   47.151021  \n",
       "28   72.170921   46.934040  \n",
       "29   72.660480   45.434352  "
      ]
     },
     "execution_count": 13,
     "metadata": {},
     "output_type": "execute_result"
    }
   ],
   "source": [
    "data =  pd.read_csv('Yoga_data_large_labeled/'+'Vriksh'+'/'+'0.0.csv')\n",
    "data['yoga'][0]\n",
    "data.drop('yoga',axis=1)"
   ]
  },
  {
   "cell_type": "code",
   "execution_count": 25,
   "id": "45481f75-0630-4847-9450-c3851dbfc242",
   "metadata": {},
   "outputs": [],
   "source": [
    "import pandas as pd\n",
    "import os\n",
    "#{'Bhuj': 1 ,'Padam':2,  'Shav':3 , 'Tada':4 , 'Trik':5  ,'Vriksh':6}\n",
    "\n",
    "# print(dir_list)\n",
    "x = []\n",
    "y = []\n",
    "dir = ['Bhuj','Padam','Shav','Tada','Trik','Vriksh']\n",
    "for i in dir:\n",
    "    dir_list = os.listdir('Yoga_data_large_labeled/'+i)\n",
    "    if '.ipynb_checkpoints' in dir_list:\n",
    "        dir_list.remove('.ipynb_checkpoints')\n",
    "    for j in dir_list:\n",
    "        data =  pd.read_csv('Yoga_data_large_labeled/'+i+'/'+j)\n",
    "        y.append(data['yoga'][0])\n",
    "        data = data.drop('yoga',axis=1)\n",
    "        x.append(data.values)"
   ]
  },
  {
   "cell_type": "code",
   "execution_count": 26,
   "id": "53b5240c-ad89-4d48-a18b-8d3458bf920e",
   "metadata": {},
   "outputs": [
    {
     "data": {
      "text/plain": [
       "3348"
      ]
     },
     "execution_count": 26,
     "metadata": {},
     "output_type": "execute_result"
    }
   ],
   "source": [
    "len(x)"
   ]
  },
  {
   "cell_type": "code",
   "execution_count": 27,
   "id": "89fed195-72c4-4892-87e0-1d5a7e957015",
   "metadata": {},
   "outputs": [
    {
     "data": {
      "text/plain": [
       "3348"
      ]
     },
     "execution_count": 27,
     "metadata": {},
     "output_type": "execute_result"
    }
   ],
   "source": [
    "len(y)"
   ]
  },
  {
   "cell_type": "code",
   "execution_count": 108,
   "id": "e75b414b-1ac5-464c-a4de-b289c71ba07b",
   "metadata": {},
   "outputs": [],
   "source": [
    "from sklearn.model_selection import train_test_split\n",
    "X_train, X_test, y_train, y_test = train_test_split(x, y, test_size=0.20, random_state=42)"
   ]
  },
  {
   "cell_type": "code",
   "execution_count": 109,
   "id": "6bfcb0c2-e009-449f-ae26-46bea0222178",
   "metadata": {},
   "outputs": [
    {
     "data": {
      "text/plain": [
       "2678"
      ]
     },
     "execution_count": 109,
     "metadata": {},
     "output_type": "execute_result"
    }
   ],
   "source": [
    "len(X_train)"
   ]
  },
  {
   "cell_type": "code",
   "execution_count": 110,
   "id": "5b7d5a45-9720-4692-b976-58e49491856b",
   "metadata": {},
   "outputs": [
    {
     "data": {
      "text/plain": [
       "670"
      ]
     },
     "execution_count": 110,
     "metadata": {},
     "output_type": "execute_result"
    }
   ],
   "source": [
    "len(X_test)"
   ]
  },
  {
   "cell_type": "code",
   "execution_count": 111,
   "id": "17490739-916e-4bfb-835d-b54efb3779a9",
   "metadata": {},
   "outputs": [
    {
     "data": {
      "text/plain": [
       "2678"
      ]
     },
     "execution_count": 111,
     "metadata": {},
     "output_type": "execute_result"
    }
   ],
   "source": [
    "len(y_train)"
   ]
  },
  {
   "cell_type": "code",
   "execution_count": 112,
   "id": "259aa986-5038-4436-9088-9f27e415d300",
   "metadata": {},
   "outputs": [
    {
     "data": {
      "text/plain": [
       "670"
      ]
     },
     "execution_count": 112,
     "metadata": {},
     "output_type": "execute_result"
    }
   ],
   "source": [
    "len(y_test)"
   ]
  },
  {
   "cell_type": "code",
   "execution_count": 113,
   "id": "6420b095-0fa1-43e4-afa3-180c82f1bfa9",
   "metadata": {},
   "outputs": [],
   "source": [
    "X_train  = tf.convert_to_tensor(X_train)"
   ]
  },
  {
   "cell_type": "code",
   "execution_count": 114,
   "id": "503f1236-88c4-4a2f-b4aa-180cccd3036f",
   "metadata": {},
   "outputs": [
    {
     "data": {
      "text/plain": [
       "TensorShape([2678, 30, 8])"
      ]
     },
     "execution_count": 114,
     "metadata": {},
     "output_type": "execute_result"
    }
   ],
   "source": [
    "X_train.shape"
   ]
  },
  {
   "cell_type": "code",
   "execution_count": 115,
   "id": "fe804336-3baf-43aa-bef0-74a3ddb8a210",
   "metadata": {},
   "outputs": [],
   "source": [
    "X_test  = tf.convert_to_tensor(X_test)"
   ]
  },
  {
   "cell_type": "code",
   "execution_count": 116,
   "id": "74bc94f2-c470-498f-92fb-60753bd30e68",
   "metadata": {},
   "outputs": [
    {
     "data": {
      "text/plain": [
       "TensorShape([670, 30, 8])"
      ]
     },
     "execution_count": 116,
     "metadata": {},
     "output_type": "execute_result"
    }
   ],
   "source": [
    "X_test.shape"
   ]
  },
  {
   "cell_type": "code",
   "execution_count": 117,
   "id": "bd0cd416-e102-40ea-b9c3-0900e2b972d8",
   "metadata": {},
   "outputs": [],
   "source": [
    "y_train  = tf.convert_to_tensor(y_train)"
   ]
  },
  {
   "cell_type": "code",
   "execution_count": 118,
   "id": "f97aac4f-313c-4c3e-88bf-fd2aa5cc6076",
   "metadata": {},
   "outputs": [
    {
     "data": {
      "text/plain": [
       "TensorShape([2678])"
      ]
     },
     "execution_count": 118,
     "metadata": {},
     "output_type": "execute_result"
    }
   ],
   "source": [
    "y_train.shape"
   ]
  },
  {
   "cell_type": "code",
   "execution_count": 119,
   "id": "9a095403-f810-4c1a-8f97-536ce7335a6e",
   "metadata": {},
   "outputs": [],
   "source": [
    "y_test = tf.convert_to_tensor(y_test)"
   ]
  },
  {
   "cell_type": "code",
   "execution_count": 120,
   "id": "0a7ca0bf-a7a0-4c12-8c92-18a8fc69ddd3",
   "metadata": {},
   "outputs": [
    {
     "data": {
      "text/plain": [
       "TensorShape([670])"
      ]
     },
     "execution_count": 120,
     "metadata": {},
     "output_type": "execute_result"
    }
   ],
   "source": [
    "y_test.shape"
   ]
  },
  {
   "cell_type": "markdown",
   "id": "503e0557-0c09-4002-8e00-4720f6a7af77",
   "metadata": {},
   "source": [
    "## Baseline Model"
   ]
  },
  {
   "cell_type": "code",
   "execution_count": null,
   "id": "9a3570c6-2ae4-410d-98a3-fddb7b5aee87",
   "metadata": {},
   "outputs": [],
   "source": []
  },
  {
   "cell_type": "code",
   "execution_count": 63,
   "id": "bd722bee-d90f-46bf-9c94-cf7899623667",
   "metadata": {},
   "outputs": [],
   "source": [
    "#encode the output\n",
    "from sklearn.preprocessing import LabelEncoder\n",
    "from keras.utils import np_utils\n",
    "\n",
    "encoder = LabelEncoder()\n",
    "encoder.fit(y_train)\n",
    "y_train = encoder.transform(y_train)\n",
    "# convert integers to dummy variables (i.e. one hot encoded)\n",
    "y_train = np_utils.to_categorical(y_train)\n"
   ]
  },
  {
   "cell_type": "code",
   "execution_count": 64,
   "id": "98090bc4-0115-49cb-ac64-0ffe9ee0452d",
   "metadata": {},
   "outputs": [
    {
     "data": {
      "text/plain": [
       "array([[0., 1., 0., 0., 0., 0.],\n",
       "       [0., 0., 0., 0., 1., 0.],\n",
       "       [1., 0., 0., 0., 0., 0.],\n",
       "       ...,\n",
       "       [0., 0., 1., 0., 0., 0.],\n",
       "       [0., 1., 0., 0., 0., 0.],\n",
       "       [0., 0., 0., 0., 0., 1.]], dtype=float32)"
      ]
     },
     "execution_count": 64,
     "metadata": {},
     "output_type": "execute_result"
    }
   ],
   "source": [
    "y_train"
   ]
  },
  {
   "cell_type": "code",
   "execution_count": 121,
   "id": "aa336435-14ed-40d5-a337-cf7a1d2c4429",
   "metadata": {},
   "outputs": [],
   "source": [
    "y_test_dummy = y_test"
   ]
  },
  {
   "cell_type": "code",
   "execution_count": 122,
   "id": "30c73067-dc63-400e-acf5-ef9c5fc2a37d",
   "metadata": {},
   "outputs": [
    {
     "data": {
      "text/plain": [
       "array([[0., 0., 0., 1., 0., 0.],\n",
       "       [0., 0., 0., 0., 1., 0.],\n",
       "       [0., 0., 1., 0., 0., 0.],\n",
       "       ...,\n",
       "       [0., 0., 0., 0., 0., 1.],\n",
       "       [1., 0., 0., 0., 0., 0.],\n",
       "       [0., 1., 0., 0., 0., 0.]], dtype=float32)"
      ]
     },
     "execution_count": 122,
     "metadata": {},
     "output_type": "execute_result"
    }
   ],
   "source": [
    "\n",
    "encoder = LabelEncoder()\n",
    "encoder.fit(y_test_dummy)\n",
    "y_test_dummy = encoder.transform(y_test_dummy)\n",
    "y_test_dummy = np_utils.to_categorical(y_test_dummy)\n",
    "y_test_dummy"
   ]
  },
  {
   "cell_type": "code",
   "execution_count": 123,
   "id": "18b29ad1-398c-43f5-a0ca-fe3f61e56ffe",
   "metadata": {},
   "outputs": [
    {
     "data": {
      "text/plain": [
       "(670, 6)"
      ]
     },
     "execution_count": 123,
     "metadata": {},
     "output_type": "execute_result"
    }
   ],
   "source": [
    "y_test_dummy.shape"
   ]
  },
  {
   "cell_type": "code",
   "execution_count": 95,
   "id": "d3aebc1b-9ece-451a-9146-1f59868de61e",
   "metadata": {},
   "outputs": [],
   "source": [
    "X_train_dummy = X_train\n",
    "X_test_dummy = X_test"
   ]
  },
  {
   "cell_type": "code",
   "execution_count": 75,
   "id": "743bd81d-dfdf-4f6c-9b64-cbd5897cb882",
   "metadata": {},
   "outputs": [],
   "source": [
    "X_train_dummy.shape\n",
    "X_train_dummy = X_train_dummy/360"
   ]
  },
  {
   "cell_type": "code",
   "execution_count": 96,
   "id": "c7329295-3f60-43b9-8c1e-9acee53d80dc",
   "metadata": {},
   "outputs": [],
   "source": [
    "X_test_dummy = X_test_dummy/360"
   ]
  },
  {
   "cell_type": "code",
   "execution_count": 83,
   "id": "83368c96-3b5f-4e79-8b72-ab2de08eaa34",
   "metadata": {},
   "outputs": [],
   "source": [
    "X_train_dummy=tf.reshape(X_train_dummy,shape=[2678,-1])"
   ]
  },
  {
   "cell_type": "code",
   "execution_count": 1,
   "id": "8b364b9d-f088-46cb-919e-fc148e6c4907",
   "metadata": {
    "collapsed": true,
    "jupyter": {
     "outputs_hidden": true
    },
    "tags": []
   },
   "outputs": [
    {
     "ename": "NameError",
     "evalue": "name 'X_test' is not defined",
     "output_type": "error",
     "traceback": [
      "\u001b[0;31m---------------------------------------------------------------------------\u001b[0m",
      "\u001b[0;31mNameError\u001b[0m                                 Traceback (most recent call last)",
      "Cell \u001b[0;32mIn [1], line 1\u001b[0m\n\u001b[0;32m----> 1\u001b[0m \u001b[43mX_test\u001b[49m\u001b[38;5;241m.\u001b[39mshape\n",
      "\u001b[0;31mNameError\u001b[0m: name 'X_test' is not defined"
     ]
    }
   ],
   "source": [
    "X_test.shape"
   ]
  },
  {
   "cell_type": "code",
   "execution_count": 98,
   "id": "2ee6b7a5-13d6-4c08-ae71-1c1693c76054",
   "metadata": {},
   "outputs": [],
   "source": [
    "X_test_dummy=tf.reshape(X_test_dummy,shape=[670,-1])"
   ]
  },
  {
   "cell_type": "code",
   "execution_count": 77,
   "id": "bcef24bc-44a3-4f27-ac7b-a72c40bb370d",
   "metadata": {},
   "outputs": [],
   "source": [
    "# import pandas\n",
    "# from keras.models import Sequential\n",
    "# from keras.layers import Dense\n",
    "# from keras.wrappers.scikit_learn import KerasClassifier\n",
    "# from keras.utils import np_utils\n",
    "# from sklearn.model_selection import cross_val_score\n",
    "# from sklearn.model_selection import KFold\n",
    "# from sklearn.preprocessing import LabelEncoder\n",
    "# from sklearn.pipeline import Pipeline\n",
    "\n",
    "\n",
    "# model = Sequential()\n",
    "# model.add(Dense(30, input_dim=240, activation='relu'))\n",
    "# model.add(Dense(6, activation='softmax'))\n",
    "# # Compile model\n",
    "# model.compile(loss='categorical_crossentropy', optimizer='adam', metrics=['accuracy'])\n",
    "# estimator = KerasClassifier(model, epochs=200, batch_size=5, verbose=0)\n",
    "# kfold = KFold(n_splits=10, shuffle=True)\n",
    "# results = cross_val_score(estimator, X_train_dummy, y_train, cv=kfold)\n",
    "# print(\"Baseline: %.2f%% (%.2f%%)\" % (results.mean()*100, results.std()*100))"
   ]
  },
  {
   "cell_type": "code",
   "execution_count": 78,
   "id": "452762e9-a8b5-4185-8793-5865257c4679",
   "metadata": {},
   "outputs": [],
   "source": [
    "from tensorflow.keras.models import Sequential\n",
    "from tensorflow.keras.layers import Dense,Dropout\n",
    "from tensorflow.keras.utils import to_categorical\n",
    "from tensorflow.keras.optimizers import RMSprop"
   ]
  },
  {
   "cell_type": "code",
   "execution_count": 84,
   "id": "ebdc8eb4-de7a-4e4a-b80b-22419191ee53",
   "metadata": {},
   "outputs": [],
   "source": [
    "model = Sequential()\n",
    "model.add(Dense(512,input_dim=240,activation = 'relu'))\n",
    "model.add(Dense(256,activation = 'relu'))\n",
    "model.add(Dense(64,activation = 'relu'))\n",
    "model.add(Dense(30,activation = 'relu'))\n",
    "model.add(Dense(6,activation = 'softmax'))"
   ]
  },
  {
   "cell_type": "code",
   "execution_count": 85,
   "id": "f3ae6619-613c-47d3-9e16-860c15083ea9",
   "metadata": {},
   "outputs": [],
   "source": [
    " model.compile(loss='categorical_crossentropy', optimizer='adam', metrics=['accuracy'])"
   ]
  },
  {
   "cell_type": "code",
   "execution_count": 90,
   "id": "ae1441e9-839e-49cb-8dd3-4b6f1752b074",
   "metadata": {},
   "outputs": [
    {
     "data": {
      "text/plain": [
       "<keras.callbacks.History at 0x7fa65ea58280>"
      ]
     },
     "execution_count": 90,
     "metadata": {},
     "output_type": "execute_result"
    }
   ],
   "source": [
    "model.fit(X_train_dummy,y_train,batch_size=128,epochs=100,verbose=0)"
   ]
  },
  {
   "cell_type": "code",
   "execution_count": 91,
   "id": "be8b6264-1e1d-4738-a79d-17100fccbe43",
   "metadata": {},
   "outputs": [],
   "source": [
    "loss,accuracy = model.evaluate(X_train_dummy,y_train,verbose=0)"
   ]
  },
  {
   "cell_type": "code",
   "execution_count": 92,
   "id": "ae1af9dd-b4d8-47d8-bd29-42caa56e54ca",
   "metadata": {},
   "outputs": [
    {
     "data": {
      "text/plain": [
       "0.029788853600621223"
      ]
     },
     "execution_count": 92,
     "metadata": {},
     "output_type": "execute_result"
    }
   ],
   "source": [
    "loss"
   ]
  },
  {
   "cell_type": "code",
   "execution_count": 93,
   "id": "bdd15e16-aac8-49b2-9fa7-b087d9fc9854",
   "metadata": {},
   "outputs": [
    {
     "data": {
      "text/plain": [
       "0.9902912378311157"
      ]
     },
     "execution_count": 93,
     "metadata": {},
     "output_type": "execute_result"
    }
   ],
   "source": [
    "accuracy"
   ]
  },
  {
   "cell_type": "code",
   "execution_count": 125,
   "id": "d8ec7ddb-7083-42c7-9a2e-3984df0b50bf",
   "metadata": {},
   "outputs": [],
   "source": [
    "loss,accuracy = model.evaluate(X_test_dummy,y_test_dummy,verbose=0)"
   ]
  },
  {
   "cell_type": "code",
   "execution_count": 126,
   "id": "f7dc7081-ac02-4730-923f-5914d660dce7",
   "metadata": {},
   "outputs": [
    {
     "data": {
      "text/plain": [
       "0.15996868908405304"
      ]
     },
     "execution_count": 126,
     "metadata": {},
     "output_type": "execute_result"
    }
   ],
   "source": [
    "loss"
   ]
  },
  {
   "cell_type": "code",
   "execution_count": 127,
   "id": "5d1e36a7-19f5-48b9-915d-027427ca5a2a",
   "metadata": {},
   "outputs": [
    {
     "data": {
      "text/plain": [
       "0.9656716585159302"
      ]
     },
     "execution_count": 127,
     "metadata": {},
     "output_type": "execute_result"
    }
   ],
   "source": [
    "accuracy"
   ]
  },
  {
   "cell_type": "code",
   "execution_count": null,
   "id": "006d4bdd-5e36-4df8-82d0-5de89caaf3f8",
   "metadata": {},
   "outputs": [],
   "source": []
  },
  {
   "cell_type": "code",
   "execution_count": null,
   "id": "83c9fb7d-c494-45f6-806e-d2056dd3de25",
   "metadata": {},
   "outputs": [],
   "source": []
  },
  {
   "cell_type": "code",
   "execution_count": null,
   "id": "2f05a33a-983f-4b13-b983-137671b939a8",
   "metadata": {},
   "outputs": [],
   "source": []
  },
  {
   "cell_type": "code",
   "execution_count": null,
   "id": "e078a0b5-11cf-46ab-83ee-ae272d95a5f5",
   "metadata": {},
   "outputs": [],
   "source": []
  },
  {
   "cell_type": "code",
   "execution_count": null,
   "id": "ed5205c2-f1e2-4caa-8d94-b69933d4cb6d",
   "metadata": {},
   "outputs": [],
   "source": []
  },
  {
   "cell_type": "code",
   "execution_count": null,
   "id": "1141ccfb-464d-4941-bcd2-13ee6dc1aef2",
   "metadata": {},
   "outputs": [],
   "source": []
  },
  {
   "cell_type": "code",
   "execution_count": null,
   "id": "85958bdb-3f93-4d58-b4c4-09be0b102525",
   "metadata": {},
   "outputs": [],
   "source": []
  },
  {
   "cell_type": "code",
   "execution_count": null,
   "id": "ef2ca341-ba05-493e-9081-296d2c341067",
   "metadata": {},
   "outputs": [],
   "source": []
  },
  {
   "cell_type": "markdown",
   "id": "9b93d53d-bf25-435a-a358-813d51c43622",
   "metadata": {},
   "source": [
    "## CNN"
   ]
  },
  {
   "cell_type": "code",
   "execution_count": 57,
   "id": "e047efb7-7b6f-433d-b6d0-0257e96a380f",
   "metadata": {},
   "outputs": [],
   "source": [
    "    model = tf.keras.Sequential([\n",
    "        \n",
    "        tf.keras.layers.ZeroPadding2D(input_shape=(30, 8,1)),\n",
    "    \n",
    "        tf.keras.layers.Conv2D(30, (1, 8), strides = (1), name = 'conv0'),\n",
    "        \n",
    "        tf.keras.layers.ReLU(max_value=None, negative_slope=0.0, threshold=0.0),\n",
    "        \n",
    "        tf.keras.layers.MaxPooling2D((2, 2), name='max_pool0'),\n",
    "    \n",
    "        tf.keras.layers.Flatten(),\n",
    "    \n",
    "        tf.keras.layers.Dense(1, activation='sigmoid', name='fc'),\n",
    "            \n",
    "        ])"
   ]
  },
  {
   "cell_type": "code",
   "execution_count": 58,
   "id": "b4354dee-bf94-49c3-9212-d78e3998e514",
   "metadata": {},
   "outputs": [],
   "source": [
    "model.compile(optimizer='adam',\n",
    "                   loss='binary_crossentropy',\n",
    "                   metrics=['accuracy'])"
   ]
  },
  {
   "cell_type": "code",
   "execution_count": 59,
   "id": "ad106643-e940-47e3-bd28-5f56e1434f8c",
   "metadata": {},
   "outputs": [
    {
     "name": "stdout",
     "output_type": "stream",
     "text": [
      "Model: \"sequential_1\"\n",
      "_________________________________________________________________\n",
      " Layer (type)                Output Shape              Param #   \n",
      "=================================================================\n",
      " zero_padding2d_1 (ZeroPaddi  (None, 32, 10, 1)        0         \n",
      " ng2D)                                                           \n",
      "                                                                 \n",
      " conv0 (Conv2D)              (None, 32, 3, 30)         270       \n",
      "                                                                 \n",
      " re_lu_1 (ReLU)              (None, 32, 3, 30)         0         \n",
      "                                                                 \n",
      " max_pool0 (MaxPooling2D)    (None, 16, 1, 30)         0         \n",
      "                                                                 \n",
      " flatten_1 (Flatten)         (None, 480)               0         \n",
      "                                                                 \n",
      " fc (Dense)                  (None, 1)                 481       \n",
      "                                                                 \n",
      "=================================================================\n",
      "Total params: 751\n",
      "Trainable params: 751\n",
      "Non-trainable params: 0\n",
      "_________________________________________________________________\n"
     ]
    }
   ],
   "source": [
    "model.summary()"
   ]
  },
  {
   "cell_type": "code",
   "execution_count": 61,
   "id": "08cdc7d3-cc66-469e-a5a5-890e98313243",
   "metadata": {},
   "outputs": [
    {
     "name": "stdout",
     "output_type": "stream",
     "text": [
      "Epoch 1/10\n",
      "168/168 [==============================] - 1s 2ms/step - loss: -14645.6729 - accuracy: 0.1643\n",
      "Epoch 2/10\n",
      "168/168 [==============================] - 0s 2ms/step - loss: -138628.8125 - accuracy: 0.1643\n",
      "Epoch 3/10\n",
      "168/168 [==============================] - 0s 2ms/step - loss: -426033.2812 - accuracy: 0.1643\n",
      "Epoch 4/10\n",
      "168/168 [==============================] - 0s 2ms/step - loss: -870021.0625 - accuracy: 0.1643\n",
      "Epoch 5/10\n",
      "168/168 [==============================] - 0s 2ms/step - loss: -1457135.0000 - accuracy: 0.1643\n",
      "Epoch 6/10\n",
      "168/168 [==============================] - 0s 2ms/step - loss: -2173757.2500 - accuracy: 0.1643\n",
      "Epoch 7/10\n",
      "168/168 [==============================] - 0s 2ms/step - loss: -3011014.0000 - accuracy: 0.1643\n",
      "Epoch 8/10\n",
      "168/168 [==============================] - 0s 2ms/step - loss: -3965479.0000 - accuracy: 0.1643\n",
      "Epoch 9/10\n",
      "168/168 [==============================] - 0s 2ms/step - loss: -5027969.5000 - accuracy: 0.1643\n",
      "Epoch 10/10\n",
      "168/168 [==============================] - 0s 2ms/step - loss: -6191622.0000 - accuracy: 0.1643\n"
     ]
    },
    {
     "data": {
      "text/plain": [
       "<keras.callbacks.History at 0x7fa67f1b7b50>"
      ]
     },
     "execution_count": 61,
     "metadata": {},
     "output_type": "execute_result"
    }
   ],
   "source": [
    "model.fit(X_train, y_train, epochs=10, batch_size=16)"
   ]
  },
  {
   "cell_type": "code",
   "execution_count": null,
   "id": "ee6a1627-8f3f-42d2-a3c1-7fe414bdfe72",
   "metadata": {},
   "outputs": [],
   "source": []
  }
 ],
 "metadata": {
  "kernelspec": {
   "display_name": "Python 3 (ipykernel)",
   "language": "python",
   "name": "python3"
  },
  "language_info": {
   "codemirror_mode": {
    "name": "ipython",
    "version": 3
   },
   "file_extension": ".py",
   "mimetype": "text/x-python",
   "name": "python",
   "nbconvert_exporter": "python",
   "pygments_lexer": "ipython3",
   "version": "3.8.13"
  }
 },
 "nbformat": 4,
 "nbformat_minor": 5
}
